{
 "cells": [
  {
   "cell_type": "markdown",
   "metadata": {},
   "source": [
    "# Índice Invertido utilizando Metapy"
   ]
  },
  {
   "cell_type": "code",
   "execution_count": 1,
   "metadata": {},
   "outputs": [],
   "source": [
    "import metapy\n",
    "import pandas as pd\n",
    "import pyspark\n",
    "from pyspark.sql import SQLContext\n",
    "from pyspark.context import SparkContext\n",
    "from pyspark.sql.session import SparkSession\n"
   ]
  },
  {
   "cell_type": "code",
   "execution_count": 2,
   "metadata": {},
   "outputs": [],
   "source": [
    "sc = SparkContext('local', \"news_indexed_topic_model\") \n",
    "spark = SparkSession(sc)\n",
    "sqlContext = SQLContext(sc)"
   ]
  },
  {
   "cell_type": "code",
   "execution_count": 3,
   "metadata": {},
   "outputs": [
    {
     "name": "stdout",
     "output_type": "stream",
     "text": [
      "+---+-------+--------------------+--------------+--------------------+----------+------+-----+----+--------------------+\n",
      "| id|id_news|               title|   publication|              author|      date|  year|month| url|             content|\n",
      "+---+-------+--------------------+--------------+--------------------+----------+------+-----+----+--------------------+\n",
      "|  0|  17283|House Republicans...|New York Times|          Carl Hulse|2016-12-31|2016.0| 12.0|null|WASHINGTON  —   C...|\n",
      "|  1|  17284|Rift Between Offi...|New York Times|Benjamin Mueller ...|2017-06-19|2017.0|  6.0|null|After the bullet ...|\n",
      "|  2|  17285|Tyrus Wong, ‘Bamb...|New York Times|        Margalit Fox|2017-01-06|2017.0|  1.0|null|When Walt Disney’...|\n",
      "|  3|  17286|Among Deaths in 2...|New York Times|    William McDonald|2017-04-10|2017.0|  4.0|null|Death may be the ...|\n",
      "|  4|  17287|Kim Jong-un Says ...|New York Times|       Choe Sang-Hun|2017-01-02|2017.0|  1.0|null|SEOUL, South Kore...|\n",
      "|  5|  17288|Sick With a Cold,...|New York Times|         Sewell Chan|2017-01-02|2017.0|  1.0|null|LONDON  —   Queen...|\n",
      "|  6|  17289|Taiwan’s Presiden...|New York Times| Javier C. Hernández|2017-01-02|2017.0|  1.0|null|BEIJING  —   Pres...|\n",
      "|  7|  17290|After ‘The Bigges...|New York Times|         Gina Kolata|2017-02-08|2017.0|  2.0|null|Danny Cahill stoo...|\n",
      "|  8|  17291|First, a Mixtape....|New York Times|    Katherine Rosman|2016-12-31|2016.0| 12.0|null|Just how   is Hil...|\n",
      "|  9|  17292|Calling on Angels...|New York Times|         Andy Newman|2016-12-31|2016.0| 12.0|null|Angels are everyw...|\n",
      "+---+-------+--------------------+--------------+--------------------+----------+------+-----+----+--------------------+\n",
      "only showing top 10 rows\n",
      "\n"
     ]
    }
   ],
   "source": [
    "dfNews=spark.read.csv(\"file:///home/ubuntu/Caso_estudio/datasets/news.csv\", inferSchema=True, header=True, encoding=\"UTF-8\")\n",
    "dfNews.show(10)"
   ]
  },
  {
   "cell_type": "code",
   "execution_count": 4,
   "metadata": {},
   "outputs": [
    {
     "name": "stdout",
     "output_type": "stream",
     "text": [
      "Total de noticias: 183222\n",
      "Cantidad de palabras únicas: 255530\n",
      "Promedio de longitud de las noticias: 297.3456726074219\n"
     ]
    }
   ],
   "source": [
    "!rm -rf news-idx\n",
    "idx = metapy.index.make_inverted_index('config.toml')\n",
    "\n",
    "print(f'Total de noticias: {idx.num_docs()}')\n",
    "print(f'Cantidad de palabras únicas: {idx.unique_terms()}')\n",
    "print(f'Promedio de longitud de las noticias: {idx.avg_doc_length()}')"
   ]
  },
  {
   "cell_type": "code",
   "execution_count": 5,
   "metadata": {},
   "outputs": [],
   "source": [
    "dfIndexNews=dfNews.toPandas()"
   ]
  },
  {
   "cell_type": "code",
   "execution_count": 6,
   "metadata": {},
   "outputs": [
    {
     "name": "stdout",
     "output_type": "stream",
     "text": [
      "[(20543, 12.039117813110352), (30497, 11.377471923828125), (152595, 11.307750701904297), (155592, 11.213479042053223), (92512, 11.188894271850586)]\n"
     ]
    },
    {
     "data": {
      "text/html": [
       "<div>\n",
       "<style scoped>\n",
       "    .dataframe tbody tr th:only-of-type {\n",
       "        vertical-align: middle;\n",
       "    }\n",
       "\n",
       "    .dataframe tbody tr th {\n",
       "        vertical-align: top;\n",
       "    }\n",
       "\n",
       "    .dataframe thead th {\n",
       "        text-align: right;\n",
       "    }\n",
       "</style>\n",
       "<table border=\"1\" class=\"dataframe\">\n",
       "  <thead>\n",
       "    <tr style=\"text-align: right;\">\n",
       "      <th></th>\n",
       "      <th>title</th>\n",
       "      <th>content</th>\n",
       "    </tr>\n",
       "  </thead>\n",
       "  <tbody>\n",
       "    <tr>\n",
       "      <th>20543</th>\n",
       "      <td>WATCH: Chinese Commercial Advertises Detergent...</td>\n",
       "      <td>A new television commercial has been called “ ...</td>\n",
       "    </tr>\n",
       "    <tr>\n",
       "      <th>30497</th>\n",
       "      <td>FARAGE FOR BREITBART: Trump Stole the March on...</td>\n",
       "      <td>I can now see where Hillary gets it from. Her ...</td>\n",
       "    </tr>\n",
       "    <tr>\n",
       "      <th>152595</th>\n",
       "      <td>Aleppo fighting rages as U.S., Russia try to r...</td>\n",
       "      <td>Syrian government forces and their allies fou...</td>\n",
       "    </tr>\n",
       "    <tr>\n",
       "      <th>155592</th>\n",
       "      <td>Tech, bank shares slip after recent gains; hea...</td>\n",
       "      <td>The S&amp;P 500 and Nasdaq Composite fell on Mond...</td>\n",
       "    </tr>\n",
       "    <tr>\n",
       "      <th>92512</th>\n",
       "      <td>Conservatives Yearning for the 1950s</td>\n",
       "      <td>None</td>\n",
       "    </tr>\n",
       "  </tbody>\n",
       "</table>\n",
       "</div>"
      ],
      "text/plain": [
       "                                                    title  \\\n",
       "20543   WATCH: Chinese Commercial Advertises Detergent...   \n",
       "30497   FARAGE FOR BREITBART: Trump Stole the March on...   \n",
       "152595  Aleppo fighting rages as U.S., Russia try to r...   \n",
       "155592  Tech, bank shares slip after recent gains; hea...   \n",
       "92512                Conservatives Yearning for the 1950s   \n",
       "\n",
       "                                                  content  \n",
       "20543   A new television commercial has been called “ ...  \n",
       "30497   I can now see where Hillary gets it from. Her ...  \n",
       "152595   Syrian government forces and their allies fou...  \n",
       "155592   The S&P 500 and Nasdaq Composite fell on Mond...  \n",
       "92512                                                None  "
      ]
     },
     "execution_count": 6,
     "metadata": {},
     "output_type": "execute_result"
    }
   ],
   "source": [
    "ranker = metapy.index.OkapiBM25(k1=1.2, b=0.75)\n",
    "query = metapy.index.Document()\n",
    "query.content('commercial battle against china') \n",
    "top_docs = ranker.score(idx, query, num_results=5)\n",
    "\n",
    "print(top_docs)\n",
    "index=[tup[0] for tup in top_docs]\n",
    "dfIndexNews.loc[index,['title','content']]"
   ]
  },
  {
   "cell_type": "code",
   "execution_count": null,
   "metadata": {},
   "outputs": [],
   "source": []
  }
 ],
 "metadata": {
  "kernelspec": {
   "display_name": "Python 3",
   "language": "python",
   "name": "python3"
  },
  "language_info": {
   "codemirror_mode": {
    "name": "ipython",
    "version": 3
   },
   "file_extension": ".py",
   "mimetype": "text/x-python",
   "name": "python",
   "nbconvert_exporter": "python",
   "pygments_lexer": "ipython3",
   "version": "3.7.3"
  }
 },
 "nbformat": 4,
 "nbformat_minor": 2
}
