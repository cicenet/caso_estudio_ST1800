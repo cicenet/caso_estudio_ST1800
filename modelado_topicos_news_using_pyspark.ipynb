{
 "cells": [
  {
   "cell_type": "code",
   "execution_count": 1,
   "metadata": {},
   "outputs": [],
   "source": [
    "#import os\n",
    "# make sure pyspark tells workers to use python3 not 2 if both are installed\n",
    "#os.environ['PYSPARK_PYTHON'] = '/home/ubuntu/anaconda3/bin/python3'\n",
    "#os.environ['PYSPARK_DRIVER_PYTHON'] = '/home/ubuntu/anaconda3/bin/ipython'\n",
    "#!pip install metapy"
   ]
  },
  {
   "cell_type": "code",
   "execution_count": 2,
   "metadata": {},
   "outputs": [],
   "source": [
    "from pyspark.sql.types import *\n",
    "from pyspark.sql.functions import *\n",
    "from pyspark.ml.linalg import Vectors\n",
    "import pyspark\n",
    "from pyspark.sql import SQLContext\n",
    "import pandas as pd\n",
    "import numpy as np"
   ]
  },
  {
   "cell_type": "code",
   "execution_count": 3,
   "metadata": {},
   "outputs": [],
   "source": [
    "#Al ejecutar esta celda se demora un poco, así que un poco de paciencia\n",
    "from pyspark.context import SparkContext\n",
    "from pyspark.sql.session import SparkSession\n",
    "sc = SparkContext('local', \"news_cleaned_topic_model\") \n",
    "spark = SparkSession(sc)\n",
    "sqlContext = SQLContext(sc)"
   ]
  },
  {
   "cell_type": "code",
   "execution_count": 4,
   "metadata": {},
   "outputs": [
    {
     "name": "stdout",
     "output_type": "stream",
     "text": [
      "+---+-------+--------------------+--------------+--------------------+----------+------+-----+----+--------------------+\n",
      "| id|id_news|               title|   publication|              author|      date|  year|month| url|             content|\n",
      "+---+-------+--------------------+--------------+--------------------+----------+------+-----+----+--------------------+\n",
      "|  0|17283.0|House Republicans...|New York Times|          Carl Hulse|2016-12-31|2016.0| 12.0|null|WASHINGTON  —   C...|\n",
      "|  4|17287.0|Kim Jong-un Says ...|New York Times|       Choe Sang-Hun|2017-01-02|2017.0|  1.0|null|SEOUL, South Kore...|\n",
      "|  5|17288.0|Sick With a Cold,...|New York Times|         Sewell Chan|2017-01-02|2017.0|  1.0|null|LONDON  —   Queen...|\n",
      "|  6|17289.0|Taiwan’s Presiden...|New York Times| Javier C. Hernández|2017-01-02|2017.0|  1.0|null|BEIJING  —   Pres...|\n",
      "|  9|17292.0|Calling on Angels...|New York Times|         Andy Newman|2016-12-31|2016.0| 12.0|null|Angels are everyw...|\n",
      "| 10|17293.0|Weak Federal Powe...|New York Times|       Justin Gillis|2017-01-03|2017.0|  1.0|null|With Donald J. Tr...|\n",
      "| 12|17295.0|Mar-a-Lago, the F...|New York Times|     Maggie Haberman|2017-01-02|2017.0|  1.0|null|WEST PALM BEACH, ...|\n",
      "| 13|17296.0|How to form healt...|New York Times|      Charles Duhigg|2017-01-02|2017.0|  1.0|null|This article is p...|\n",
      "| 18|17302.0|Suicide Bombing i...|New York Times|The Associated Press|2017-01-03|2017.0|  1.0|null|BAGHDAD  —   A su...|\n",
      "| 19|17303.0|Fecal Pollution T...|New York Times|          Brett Cole|2017-01-03|2017.0|  1.0|null|SYDNEY, Australia...|\n",
      "+---+-------+--------------------+--------------+--------------------+----------+------+-----+----+--------------------+\n",
      "only showing top 10 rows\n",
      "\n"
     ]
    }
   ],
   "source": [
    "dfNews=spark.read.csv(\"file:///home/ubuntu/Caso_estudio/datasets/mini_news.csv\", inferSchema=True, header=True, encoding=\"UTF-8\")\n",
    "dfNews.show(10)\n"
   ]
  },
  {
   "cell_type": "markdown",
   "metadata": {},
   "source": [
    "# Limpieza del dataset"
   ]
  },
  {
   "cell_type": "code",
   "execution_count": 5,
   "metadata": {},
   "outputs": [],
   "source": [
    "dfNewsFiltered=dfNews.na.drop(subset=(\"title\",\"publication\",\"author\",\"year\", \"date\", \"month\",\"content\"))"
   ]
  },
  {
   "cell_type": "code",
   "execution_count": 6,
   "metadata": {},
   "outputs": [
    {
     "name": "stdout",
     "output_type": "stream",
     "text": [
      "+-------+--------------------+--------------+--------------------+\n",
      "|id_news|               title|   publication|             content|\n",
      "+-------+--------------------+--------------+--------------------+\n",
      "|17283.0|House Republicans...|New York Times|WASHINGTON  —   C...|\n",
      "|17287.0|Kim Jong-un Says ...|New York Times|SEOUL, South Kore...|\n",
      "|17288.0|Sick With a Cold,...|New York Times|LONDON  —   Queen...|\n",
      "|17289.0|Taiwan’s Presiden...|New York Times|BEIJING  —   Pres...|\n",
      "|17292.0|Calling on Angels...|New York Times|Angels are everyw...|\n",
      "|17293.0|Weak Federal Powe...|New York Times|With Donald J. Tr...|\n",
      "|17295.0|Mar-a-Lago, the F...|New York Times|WEST PALM BEACH, ...|\n",
      "|17296.0|How to form healt...|New York Times|This article is p...|\n",
      "|17302.0|Suicide Bombing i...|New York Times|BAGHDAD  —   A su...|\n",
      "|17303.0|Fecal Pollution T...|New York Times|SYDNEY, Australia...|\n",
      "+-------+--------------------+--------------+--------------------+\n",
      "only showing top 10 rows\n",
      "\n"
     ]
    }
   ],
   "source": [
    "dfMainCols= dfNewsFiltered.select('id_news','title','publication','content')\n",
    "dfMainCols.show(10)"
   ]
  },
  {
   "cell_type": "markdown",
   "metadata": {},
   "source": [
    "# Modelamiento de Tópicos (LDA)"
   ]
  },
  {
   "cell_type": "code",
   "execution_count": 7,
   "metadata": {},
   "outputs": [
    {
     "name": "stderr",
     "output_type": "stream",
     "text": [
      "[nltk_data] Downloading package stopwords to /home/ubuntu/nltk_data...\n",
      "[nltk_data]   Package stopwords is already up-to-date!\n"
     ]
    }
   ],
   "source": [
    "import nltk\n",
    "import pandas as pd\n",
    "import numpy as np\n",
    "#import codecs\n",
    "#import matplotlib.pyplot as plt\n",
    "from nltk.stem.porter import PorterStemmer\n",
    "\n",
    "nltk.download(['stopwords'])\n",
    "from nltk.corpus import stopwords\n",
    "import pyspark.sql.functions as F"
   ]
  },
  {
   "cell_type": "code",
   "execution_count": 8,
   "metadata": {},
   "outputs": [],
   "source": [
    "# Conteo de las palabras iniciales que están en el título y del contenido de la noticia\n",
    "def countWords(record):\n",
    "    textTitle  = record[1]\n",
    "    textContent = record[3]\n",
    "    textCombined = textTitle + \" \" + textContent\n",
    "    words = textCombined.split()\n",
    "    longitudTexto=len(words)\n",
    "    return longitudTexto\n",
    "\n",
    "udf_countWords = udf(countWords, IntegerType())\n",
    "dfcountWords = dfMainCols.withColumn(\"countWords\", udf_countWords(struct([dfMainCols[x] for x in dfMainCols.columns])))"
   ]
  },
  {
   "cell_type": "code",
   "execution_count": 9,
   "metadata": {},
   "outputs": [],
   "source": [
    "from pyspark.ml.feature import  IDF, Tokenizer, CountVectorizer\n",
    "from pyspark.ml.linalg import Vectors, SparseVector\n",
    "from pyspark.ml.clustering import LDA, BisectingKMeans\n",
    "#from pyspark.sql.functions import monotonically_increasing_id\n",
    "import re"
   ]
  },
  {
   "cell_type": "code",
   "execution_count": 11,
   "metadata": {},
   "outputs": [],
   "source": [
    "# Default list of Stopwords\n",
    "\n",
    "stopWords1 = stopwords.words('english')\n",
    "\n",
    "stopwords2 = [word.lower() for word in stopWords1] \n",
    "\n",
    "stopwords_custom = ['New', 'York','Times','Breitbart', 'News', 'Daily', 'NPR','Reuters','Guardian','CNN','Atlantic','Vox']\n",
    "stopwords3 = stopwords2 + stopwords_custom\n",
    "\n",
    "#Stemmer\n",
    "ps = PorterStemmer() \n",
    "\n",
    "def cleanup_text(record):\n",
    "    textTitle  = str(record[1])\n",
    "    textPublication=str(record[2])\n",
    "    textContent = str(record[3])\n",
    "    \n",
    "    #setStopwordsCustom =set(stopwords_custom)\n",
    "    #setStopwordsCustom =setStopwordsCustom.union(set(textPublication.split()))\n",
    "    #stopwords_custom1 = list(setStopwordsCustom)\n",
    "    #stopwords_custom= stopwords_custom1\n",
    "    #stopwords = stopwords_core + stopwords_custom1\n",
    "    #title=textTitle\n",
    "    #longPublication =len(textPublication) # Calcular la longitud de la cadena de caracteres  del publisher de la noticia\n",
    "    #longTitle=len(textTitle)  # Calcular la longitud de la cadena del titulo de la noticia\n",
    "    \n",
    "    #if longTitle > longPublication:\n",
    "    #    textPublisher=textTitle[longTitle-longPublication-1:longTitle] # Extrar caracteres derechos del titulo\n",
    "    #    if textPublisher==textPublication:\n",
    "    #        title=textTitle[0:longTitle-longPublication-1]\n",
    "    #    else:\n",
    "    #        title=textTitle\n",
    "    \n",
    "    textCombined = textTitle + \" \" + textContent\n",
    "    # Remove special characters\n",
    "    textCombined= re.sub('(-|-|\\u2212|\\u2012|\\u2013|\\u2014|\\u2015)\\n','',textCombined)\n",
    "    textCombined= re.sub('(-|-|\\u2212|\\u2012|\\u2013|\\u2014|\\u2015)',' ',textCombined)\n",
    "    textCombined= re.sub('[^(a-zA-Z)]',' ',textCombined)\n",
    "    textCombined= re.sub(' +',' ',textCombined)\n",
    "    words = textCombined.split()\n",
    "    tokens3 = [word.lower() for word in words if len(word)>3 and word.lower() not in stopwords3] \n",
    "    text_out = [ps.stem(w) for w in tokens3]\n",
    "    \n",
    "    #text_out = [re.sub('(-|-|\\u2212|\\u2012|\\u2013|\\u2014|\\u2015)\\n','',word) for word in words]\n",
    "    #text_out = [re.sub('(-|-|\\u2212|\\u2012|\\u2013|\\u2014|\\u2015)',' ',word) for word in words]\n",
    "    #text_out = [re.sub('[^(a-zA-Z)]',' ',word) for word in words]                                   \n",
    "    #text_out = [re.sub(' +',' ',word) for word in words] \n",
    "    # Remove stopwords and words under X length\n",
    "    return text_out"
   ]
  },
  {
   "cell_type": "code",
   "execution_count": 12,
   "metadata": {},
   "outputs": [],
   "source": [
    "udf_cleantext = udf(cleanup_text , ArrayType(StringType()))\n",
    "dfCombined = dfMainCols.withColumn(\"CombinedTokens\", udf_cleantext(struct([dfMainCols[x] for x in dfMainCols.columns])))"
   ]
  },
  {
   "cell_type": "code",
   "execution_count": 13,
   "metadata": {},
   "outputs": [
    {
     "name": "stdout",
     "output_type": "stream",
     "text": [
      "+-------+--------------------+--------------+--------------------+--------------------+\n",
      "|id_news|               title|   publication|             content|      CombinedTokens|\n",
      "+-------+--------------------+--------------+--------------------+--------------------+\n",
      "|17283.0|House Republicans...|New York Times|WASHINGTON  —   C...|[hous, republican...|\n",
      "|17287.0|Kim Jong-un Says ...|New York Times|SEOUL, South Kore...|[jong, say, north...|\n",
      "|17288.0|Sick With a Cold,...|New York Times|LONDON  —   Queen...|[sick, cold, quee...|\n",
      "|17289.0|Taiwan’s Presiden...|New York Times|BEIJING  —   Pres...|[taiwan, presid, ...|\n",
      "|17292.0|Calling on Angels...|New York Times|Angels are everyw...|[call, angel, end...|\n",
      "|17293.0|Weak Federal Powe...|New York Times|With Donald J. Tr...|[weak, feder, pow...|\n",
      "|17295.0|Mar-a-Lago, the F...|New York Times|WEST PALM BEACH, ...|[lago, futur, win...|\n",
      "|17296.0|How to form healt...|New York Times|This article is p...|[form, healthi, h...|\n",
      "|17302.0|Suicide Bombing i...|New York Times|BAGHDAD  —   A su...|[suicid, bomb, ba...|\n",
      "|17303.0|Fecal Pollution T...|New York Times|SYDNEY, Australia...|[fecal, pollut, t...|\n",
      "+-------+--------------------+--------------+--------------------+--------------------+\n",
      "only showing top 10 rows\n",
      "\n"
     ]
    }
   ],
   "source": [
    "dfCombined.show(10)"
   ]
  },
  {
   "cell_type": "code",
   "execution_count": 14,
   "metadata": {},
   "outputs": [],
   "source": [
    "# Term Frequency Vectorization: \n",
    "cvTokensCombined = CountVectorizer(inputCol=\"CombinedTokens\", outputCol=\"rawFeatures\", vocabSize = 5000)\n",
    "cvmodel = cvTokensCombined.fit(dfCombined)\n",
    "featurizedData = cvmodel.transform(dfCombined)\n",
    "\n",
    "vocab = cvmodel.vocabulary\n",
    "vocab_broadcast = sc.broadcast(vocab)\n",
    "\n",
    "#Calculating IDF\n",
    "idf = IDF(inputCol=\"rawFeatures\", outputCol=\"features\")\n",
    "idfModel = idf.fit(featurizedData)\n",
    "rescaledData = idfModel.transform(featurizedData)"
   ]
  },
  {
   "cell_type": "code",
   "execution_count": 15,
   "metadata": {},
   "outputs": [
    {
     "name": "stdout",
     "output_type": "stream",
     "text": [
      "+-------+--------------------+--------------+--------------------+--------------------+--------------------+--------------------+\n",
      "|id_news|               title|   publication|             content|      CombinedTokens|         rawFeatures|            features|\n",
      "+-------+--------------------+--------------+--------------------+--------------------+--------------------+--------------------+\n",
      "|17283.0|House Republicans...|New York Times|WASHINGTON  —   C...|[hous, republican...|(5000,[0,1,2,3,4,...|(5000,[0,1,2,3,4,...|\n",
      "|17287.0|Kim Jong-un Says ...|New York Times|SEOUL, South Kore...|[jong, say, north...|(5000,[0,1,2,3,4,...|(5000,[0,1,2,3,4,...|\n",
      "|17288.0|Sick With a Cold,...|New York Times|LONDON  —   Queen...|[sick, cold, quee...|(5000,[0,3,7,11,1...|(5000,[0,3,7,11,1...|\n",
      "|17289.0|Taiwan’s Presiden...|New York Times|BEIJING  —   Pres...|[taiwan, presid, ...|(5000,[0,1,2,3,4,...|(5000,[0,1,2,3,4,...|\n",
      "|17292.0|Calling on Angels...|New York Times|Angels are everyw...|[call, angel, end...|(5000,[0,3,5,7,8,...|(5000,[0,3,5,7,8,...|\n",
      "|17293.0|Weak Federal Powe...|New York Times|With Donald J. Tr...|[weak, feder, pow...|(5000,[0,1,2,3,4,...|(5000,[0,1,2,3,4,...|\n",
      "|17295.0|Mar-a-Lago, the F...|New York Times|WEST PALM BEACH, ...|[lago, futur, win...|(5000,[0,1,2,3,4,...|(5000,[0,1,2,3,4,...|\n",
      "|17296.0|How to form healt...|New York Times|This article is p...|[form, healthi, h...|(5000,[2,3,5,7,8,...|(5000,[2,3,5,7,8,...|\n",
      "|17302.0|Suicide Bombing i...|New York Times|BAGHDAD  —   A su...|[suicid, bomb, ba...|(5000,[0,2,3,5,6,...|(5000,[0,2,3,5,6,...|\n",
      "|17303.0|Fecal Pollution T...|New York Times|SYDNEY, Australia...|[fecal, pollut, t...|(5000,[0,2,3,5,17...|(5000,[0,2,3,5,17...|\n",
      "+-------+--------------------+--------------+--------------------+--------------------+--------------------+--------------------+\n",
      "only showing top 10 rows\n",
      "\n"
     ]
    }
   ],
   "source": [
    "rescaledData.show(10)"
   ]
  },
  {
   "cell_type": "code",
   "execution_count": 16,
   "metadata": {},
   "outputs": [
    {
     "name": "stdout",
     "output_type": "stream",
     "text": [
      "+-----+--------------------+--------------------+\n",
      "|topic|         termIndices|         termWeights|\n",
      "+-----+--------------------+--------------------+\n",
      "|    0|[1, 64, 737, 340,...|[0.00537014935798...|\n",
      "|    1|[140, 806, 736, 1...|[0.00476260288770...|\n",
      "|    2|[226, 409, 602, 1...|[0.00478580017425...|\n",
      "+-----+--------------------+--------------------+\n",
      "only showing top 3 rows\n",
      "\n"
     ]
    }
   ],
   "source": [
    "# Generate 10 Data-Driven Topics:\n",
    "lda = LDA(k=10, seed=123, optimizer=\"em\", featuresCol=\"features\")\n",
    "\n",
    "ldamodel = lda.fit(rescaledData)\n",
    "\n",
    "#model.isDistributed()\n",
    "#model.vocabSize()\n",
    "\n",
    "ldatopics = ldamodel.describeTopics()\n",
    "ldatopics.show(3)"
   ]
  },
  {
   "cell_type": "code",
   "execution_count": 17,
   "metadata": {},
   "outputs": [
    {
     "data": {
      "text/plain": [
       "[Row(id_news=17283.0, title='House Republicans Fret About Winning Their Health Care Suit - The New York Times', publication='New York Times', content='WASHINGTON  —   Congressional Republicans have a new fear when it comes to their    health care lawsuit against the Obama administration: They might win. The incoming Trump administration could choose to no longer defend the executive branch against the suit, which challenges the administration’s authority to spend billions of dollars on health insurance subsidies for   and   Americans, handing House Republicans a big victory on    issues. But a sudden loss of the disputed subsidies could conceivably cause the health care program to implode, leaving millions of people without access to health insurance before Republicans have prepared a replacement. That could lead to chaos in the insurance market and spur a political backlash just as Republicans gain full control of the government. To stave off that outcome, Republicans could find themselves in the awkward position of appropriating huge sums to temporarily prop up the Obama health care law, angering conservative voters who have been demanding an end to the law for years. In another twist, Donald J. Trump’s administration, worried about preserving executive branch prerogatives, could choose to fight its Republican allies in the House on some central questions in the dispute. Eager to avoid an ugly political pileup, Republicans on Capitol Hill and the Trump transition team are gaming out how to handle the lawsuit, which, after the election, has been put in limbo until at least late February by the United States Court of Appeals for the District of Columbia Circuit. They are not yet ready to divulge their strategy. “Given that this pending litigation involves the Obama administration and Congress, it would be inappropriate to comment,” said Phillip J. Blando, a spokesman for the Trump transition effort. “Upon taking office, the Trump administration will evaluate this case and all related aspects of the Affordable Care Act. ” In a potentially   decision in 2015, Judge Rosemary M. Collyer ruled that House Republicans had the standing to sue the executive branch over a spending dispute and that the Obama administration had been distributing the health insurance subsidies, in violation of the Constitution, without approval from Congress. The Justice Department, confident that Judge Collyer’s decision would be reversed, quickly appealed, and the subsidies have remained in place during the appeal. In successfully seeking a temporary halt in the proceedings after Mr. Trump won, House Republicans last month told the court that they “and the  ’s transition team currently are discussing potential options for resolution of this matter, to take effect after the  ’s inauguration on Jan. 20, 2017. ” The suspension of the case, House lawyers said, will “provide the   and his future administration time to consider whether to continue prosecuting or to otherwise resolve this appeal. ” Republican leadership officials in the House acknowledge the possibility of “cascading effects” if the   payments, which have totaled an estimated $13 billion, are suddenly stopped. Insurers that receive the subsidies in exchange for paying    costs such as deductibles and   for eligible consumers could race to drop coverage since they would be losing money. Over all, the loss of the subsidies could destabilize the entire program and cause a lack of confidence that leads other insurers to seek a quick exit as well. Anticipating that the Trump administration might not be inclined to mount a vigorous fight against the House Republicans given the  ’s dim view of the health care law, a team of lawyers this month sought to intervene in the case on behalf of two participants in the health care program. In their request, the lawyers predicted that a deal between House Republicans and the new administration to dismiss or settle the case “will produce devastating consequences for the individuals who receive these reductions, as well as for the nation’s health insurance and health care systems generally. ” No matter what happens, House Republicans say, they want to prevail on two overarching concepts: the congressional power of the purse, and the right of Congress to sue the executive branch if it violates the Constitution regarding that spending power. House Republicans contend that Congress never appropriated the money for the subsidies, as required by the Constitution. In the suit, which was initially championed by John A. Boehner, the House speaker at the time, and later in House committee reports, Republicans asserted that the administration, desperate for the funding, had required the Treasury Department to provide it despite widespread internal skepticism that the spending was proper. The White House said that the spending was a permanent part of the law passed in 2010, and that no annual appropriation was required  —   even though the administration initially sought one. Just as important to House Republicans, Judge Collyer found that Congress had the standing to sue the White House on this issue  —   a ruling that many legal experts said was flawed  —   and they want that precedent to be set to restore congressional leverage over the executive branch. But on spending power and standing, the Trump administration may come under pressure from advocates of presidential authority to fight the House no matter their shared views on health care, since those precedents could have broad repercussions. It is a complicated set of dynamics illustrating how a quick legal victory for the House in the Trump era might come with costs that Republicans never anticipated when they took on the Obama White House.', CombinedTokens=['hous', 'republican', 'fret', 'win', 'health', 'care', 'suit', 'york', 'time', 'washington', 'congression', 'republican', 'fear', 'come', 'health', 'care', 'lawsuit', 'obama', 'administr', 'might', 'incom', 'trump', 'administr', 'could', 'choos', 'longer', 'defend', 'execut', 'branch', 'suit', 'challeng', 'administr', 'author', 'spend', 'billion', 'dollar', 'health', 'insur', 'subsidi', 'american', 'hand', 'hous', 'republican', 'victori', 'issu', 'sudden', 'loss', 'disput', 'subsidi', 'could', 'conceiv', 'caus', 'health', 'care', 'program', 'implod', 'leav', 'million', 'peopl', 'without', 'access', 'health', 'insur', 'republican', 'prepar', 'replac', 'could', 'lead', 'chao', 'insur', 'market', 'spur', 'polit', 'backlash', 'republican', 'gain', 'full', 'control', 'govern', 'stave', 'outcom', 'republican', 'could', 'find', 'awkward', 'posit', 'appropri', 'huge', 'sum', 'temporarili', 'prop', 'obama', 'health', 'care', 'anger', 'conserv', 'voter', 'demand', 'year', 'anoth', 'twist', 'donald', 'trump', 'administr', 'worri', 'preserv', 'execut', 'branch', 'prerog', 'could', 'choos', 'fight', 'republican', 'alli', 'hous', 'central', 'question', 'disput', 'eager', 'avoid', 'ugli', 'polit', 'pileup', 'republican', 'capitol', 'hill', 'trump', 'transit', 'team', 'game', 'handl', 'lawsuit', 'elect', 'limbo', 'least', 'late', 'februari', 'unit', 'state', 'court', 'appeal', 'district', 'columbia', 'circuit', 'readi', 'divulg', 'strategi', 'given', 'pend', 'litig', 'involv', 'obama', 'administr', 'congress', 'would', 'inappropri', 'comment', 'said', 'phillip', 'blando', 'spokesman', 'trump', 'transit', 'effort', 'upon', 'take', 'offic', 'trump', 'administr', 'evalu', 'case', 'relat', 'aspect', 'afford', 'care', 'potenti', 'decis', 'judg', 'rosemari', 'collyer', 'rule', 'hous', 'republican', 'stand', 'execut', 'branch', 'spend', 'disput', 'obama', 'administr', 'distribut', 'health', 'insur', 'subsidi', 'violat', 'constitut', 'without', 'approv', 'congress', 'justic', 'depart', 'confid', 'judg', 'collyer', 'decis', 'would', 'revers', 'quickli', 'appeal', 'subsidi', 'remain', 'place', 'appeal', 'success', 'seek', 'temporari', 'halt', 'proceed', 'trump', 'hous', 'republican', 'last', 'month', 'told', 'court', 'transit', 'team', 'current', 'discuss', 'potenti', 'option', 'resolut', 'matter', 'take', 'effect', 'inaugur', 'suspens', 'case', 'hous', 'lawyer', 'said', 'provid', 'futur', 'administr', 'time', 'consid', 'whether', 'continu', 'prosecut', 'otherwis', 'resolv', 'appeal', 'republican', 'leadership', 'offici', 'hous', 'acknowledg', 'possibl', 'cascad', 'effect', 'payment', 'total', 'estim', 'billion', 'suddenli', 'stop', 'insur', 'receiv', 'subsidi', 'exchang', 'pay', 'cost', 'deduct', 'elig', 'consum', 'could', 'race', 'drop', 'coverag', 'sinc', 'would', 'lose', 'money', 'loss', 'subsidi', 'could', 'destabil', 'entir', 'program', 'caus', 'lack', 'confid', 'lead', 'insur', 'seek', 'quick', 'exit', 'well', 'anticip', 'trump', 'administr', 'might', 'inclin', 'mount', 'vigor', 'fight', 'hous', 'republican', 'given', 'view', 'health', 'care', 'team', 'lawyer', 'month', 'sought', 'interven', 'case', 'behalf', 'particip', 'health', 'care', 'program', 'request', 'lawyer', 'predict', 'deal', 'hous', 'republican', 'administr', 'dismiss', 'settl', 'case', 'produc', 'devast', 'consequ', 'individu', 'receiv', 'reduct', 'well', 'nation', 'health', 'insur', 'health', 'care', 'system', 'gener', 'matter', 'happen', 'hous', 'republican', 'want', 'prevail', 'overarch', 'concept', 'congression', 'power', 'purs', 'right', 'congress', 'execut', 'branch', 'violat', 'constitut', 'regard', 'spend', 'power', 'hous', 'republican', 'contend', 'congress', 'never', 'appropri', 'money', 'subsidi', 'requir', 'constitut', 'suit', 'initi', 'champion', 'john', 'boehner', 'hous', 'speaker', 'time', 'later', 'hous', 'committe', 'report', 'republican', 'assert', 'administr', 'desper', 'fund', 'requir', 'treasuri', 'depart', 'provid', 'despit', 'widespread', 'intern', 'skeptic', 'spend', 'proper', 'white', 'hous', 'said', 'spend', 'perman', 'part', 'pass', 'annual', 'appropri', 'requir', 'even', 'though', 'administr', 'initi', 'sought', 'import', 'hous', 'republican', 'judg', 'collyer', 'found', 'congress', 'stand', 'white', 'hous', 'issu', 'rule', 'mani', 'legal', 'expert', 'said', 'flaw', 'want', 'preced', 'restor', 'congression', 'leverag', 'execut', 'branch', 'spend', 'power', 'stand', 'trump', 'administr', 'come', 'pressur', 'advoc', 'presidenti', 'author', 'fight', 'hous', 'matter', 'share', 'view', 'health', 'care', 'sinc', 'preced', 'could', 'broad', 'repercuss', 'complic', 'dynam', 'illustr', 'quick', 'legal', 'victori', 'hous', 'trump', 'might', 'come', 'cost', 'republican', 'never', 'anticip', 'took', 'obama', 'white', 'hous'], rawFeatures=SparseVector(5000, {0: 4.0, 1: 9.0, 2: 1.0, 3: 3.0, 4: 3.0, 5: 1.0, 7: 1.0, 10: 1.0, 14: 1.0, 15: 1.0, 17: 1.0, 18: 1.0, 23: 8.0, 25: 1.0, 27: 1.0, 28: 18.0, 30: 5.0, 31: 1.0, 32: 1.0, 33: 2.0, 34: 19.0, 36: 1.0, 39: 2.0, 40: 1.0, 41: 2.0, 46: 1.0, 47: 1.0, 53: 3.0, 54: 1.0, 55: 1.0, 63: 3.0, 65: 1.0, 78: 2.0, 80: 13.0, 84: 2.0, 85: 2.0, 86: 1.0, 89: 4.0, 91: 1.0, 92: 2.0, 93: 2.0, 98: 1.0, 108: 1.0, 110: 1.0, 111: 2.0, 115: 1.0, 119: 1.0, 123: 2.0, 125: 1.0, 132: 5.0, 133: 1.0, 141: 3.0, 147: 3.0, 151: 1.0, 153: 2.0, 156: 12.0, 163: 1.0, 166: 1.0, 168: 2.0, 169: 1.0, 175: 9.0, 176: 2.0, 181: 1.0, 182: 2.0, 183: 1.0, 189: 1.0, 202: 1.0, 203: 3.0, 205: 2.0, 208: 1.0, 213: 3.0, 216: 1.0, 218: 1.0, 219: 1.0, 221: 2.0, 223: 3.0, 228: 1.0, 229: 1.0, 230: 1.0, 236: 1.0, 237: 1.0, 239: 1.0, 244: 2.0, 245: 3.0, 248: 1.0, 250: 2.0, 261: 1.0, 265: 1.0, 272: 1.0, 276: 1.0, 277: 1.0, 281: 1.0, 283: 1.0, 289: 1.0, 292: 2.0, 293: 2.0, 294: 1.0, 306: 3.0, 316: 3.0, 319: 1.0, 332: 1.0, 337: 2.0, 341: 1.0, 343: 1.0, 346: 5.0, 362: 1.0, 365: 1.0, 369: 2.0, 370: 1.0, 378: 2.0, 389: 3.0, 396: 2.0, 419: 1.0, 425: 1.0, 437: 2.0, 446: 1.0, 451: 1.0, 477: 1.0, 483: 1.0, 496: 1.0, 501: 1.0, 503: 2.0, 504: 3.0, 509: 1.0, 513: 1.0, 525: 1.0, 531: 6.0, 536: 1.0, 543: 2.0, 554: 1.0, 574: 2.0, 599: 1.0, 609: 1.0, 610: 1.0, 614: 2.0, 621: 3.0, 624: 1.0, 627: 1.0, 646: 1.0, 655: 1.0, 659: 1.0, 675: 1.0, 679: 7.0, 696: 1.0, 712: 1.0, 714: 1.0, 729: 4.0, 748: 1.0, 756: 2.0, 762: 1.0, 764: 1.0, 780: 1.0, 790: 1.0, 793: 1.0, 824: 1.0, 825: 1.0, 827: 1.0, 841: 1.0, 861: 1.0, 870: 1.0, 876: 1.0, 891: 1.0, 903: 1.0, 913: 2.0, 927: 1.0, 929: 1.0, 931: 1.0, 948: 2.0, 959: 3.0, 980: 1.0, 981: 1.0, 984: 3.0, 1008: 1.0, 1009: 1.0, 1019: 1.0, 1055: 1.0, 1057: 1.0, 1062: 1.0, 1064: 1.0, 1075: 1.0, 1116: 1.0, 1126: 1.0, 1172: 2.0, 1178: 1.0, 1200: 2.0, 1228: 1.0, 1237: 1.0, 1262: 3.0, 1274: 1.0, 1287: 1.0, 1319: 2.0, 1342: 1.0, 1352: 1.0, 1405: 1.0, 1468: 3.0, 1512: 1.0, 1584: 3.0, 1605: 1.0, 1620: 1.0, 1628: 1.0, 1644: 1.0, 1649: 1.0, 1652: 1.0, 1653: 1.0, 1671: 1.0, 1697: 1.0, 1705: 1.0, 1757: 1.0, 1782: 1.0, 1866: 5.0, 1872: 1.0, 1875: 1.0, 1901: 1.0, 1906: 1.0, 1923: 1.0, 1962: 1.0, 1963: 1.0, 1968: 1.0, 2030: 1.0, 2081: 2.0, 2099: 1.0, 2118: 1.0, 2137: 1.0, 2141: 1.0, 2142: 1.0, 2143: 1.0, 2161: 1.0, 2203: 1.0, 2359: 1.0, 2379: 1.0, 2388: 1.0, 2398: 1.0, 2418: 1.0, 2586: 2.0, 2600: 1.0, 2636: 2.0, 2667: 1.0, 2681: 1.0, 2757: 1.0, 2833: 1.0, 2850: 1.0, 2890: 7.0, 2910: 1.0, 2947: 1.0, 3012: 1.0, 3048: 1.0, 3061: 1.0, 3080: 1.0, 3129: 1.0, 3260: 1.0, 3269: 1.0, 3290: 1.0, 3332: 1.0, 3427: 1.0, 3503: 1.0, 3573: 1.0, 3614: 1.0, 3695: 1.0, 4217: 1.0, 4342: 1.0, 4545: 1.0, 4566: 1.0, 4637: 1.0, 4647: 1.0, 4691: 1.0})),\n",
       " Row(id_news=17287.0, title='Kim Jong-un Says North Korea Is Preparing to Test Long-Range Missile - The New York Times', publication='New York Times', content='SEOUL, South Korea  —   North Korea’s leader, Kim   said on Sunday that his country was making final preparations to conduct its first test of an intercontinental ballistic missile  —   a bold statement less than a month before the inauguration of   Donald J. Trump. Although North Korea has conducted five nuclear tests in the last decade and more than 20 ballistic missile tests in 2016 alone, and although it habitually threatens to attack the United States with nuclear weapons, the country has never   an intercontinental ballistic missile, or ICBM. In his annual New Year’s Day speech, which was broadcast on the North’s   KCTV on Sunday, Mr. Kim spoke proudly of the strides he said his country had made in its nuclear weapons and ballistic missile programs. He said North Korea would continue to bolster its weapons programs as long as the United States remained hostile and continued its joint military exercises with South Korea. “We have reached the final stage in preparations to   an intercontinental ballistic rocket,” he said. Analysts in the region have said Mr. Kim might conduct another weapons test in coming months, taking advantage of leadership changes in the United States and South Korea. Mr. Trump will be sworn in on Jan. 20. In South Korea, President Park   whose powers were suspended in a Parliamentary impeachment on Dec. 9, is waiting for the Constitutional Court to rule on whether she should be formally removed from office or reinstated. If North Korea conducts a    test in coming months, it will test Mr. Trump’s new administration despite years of increasingly harsh sanctions, North Korea has been advancing toward Mr. Kim’s professed goal of arming his isolated country with the ability to deliver a nuclear warhead to the United States. Mr. Kim’s speech on Sunday indicated that North Korea may   a   rocket several times this year to complete its ICBM program, said Cheong   a senior research fellow at the Sejong Institute in South Korea. The first of such tests could come even before Mr. Trump’s inauguration, Mr. Cheong said. “We need to take note of the fact that this is the first New Year’s speech where Kim   mentioned an intercontinental ballistic missile,” he said. In his speech, Mr. Kim did not comment on Mr. Trump’s election. Doubt still runs deep that North Korea has mastered all the technology needed to build a reliable ICBM. But analysts in the region said the North’s launchings of   rockets to put satellites into orbit in recent years showed that the country had cleared some key technological hurdles. After the North’s satellite launch in February, South Korean defense officials said the Unha rocket used in the launch, if successfully reconfigured as a missile, could fly more than 7, 400 miles with a warhead of 1, 100 to 1, 300 pounds  —   far enough to reach most of the United States. North Korea has deployed Rodong ballistic missiles that can reach most of South Korea and Japan, but it has had a spotty record in   the Musudan, its   ballistic missile with a range long enough to reach American military bases in the Pacific, including those on Guam. The North has also claimed a series of successes in testing various ICBM technologies, although its claims cannot be verified and are often disputed by officials and analysts in the region. It has said it could now make nuclear warheads small enough to fit onto a ballistic missile. It also claimed success in testing the   technology that allows a   missile to return to the Earth’s atmosphere without breaking up. In April, North Korea reported the successful ground test of an engine for an intercontinental ballistic missile. At the time, Mr. Kim said the North “can tip   intercontinental ballistic rockets with more powerful nuclear warheads and keep any cesspool of evils in the Earth, including the U. S. mainland, within our striking range. ” On Sept. 9, the North conducted its fifth, and most powerful, nuclear test. Mr. Kim later attended another ground test of a new   rocket engine, exhorting his government to prepare for another rocket launch as soon as possible. In November, the United Nations Security Council imposed new  sanctions against the North.', CombinedTokens=['jong', 'say', 'north', 'korea', 'prepar', 'test', 'long', 'rang', 'missil', 'york', 'time', 'seoul', 'south', 'korea', 'north', 'korea', 'leader', 'said', 'sunday', 'countri', 'make', 'final', 'prepar', 'conduct', 'first', 'test', 'intercontinent', 'ballist', 'missil', 'bold', 'statement', 'less', 'month', 'inaugur', 'donald', 'trump', 'although', 'north', 'korea', 'conduct', 'five', 'nuclear', 'test', 'last', 'decad', 'ballist', 'missil', 'test', 'alon', 'although', 'habitu', 'threaten', 'attack', 'unit', 'state', 'nuclear', 'weapon', 'countri', 'never', 'intercontinent', 'ballist', 'missil', 'icbm', 'annual', 'year', 'speech', 'broadcast', 'north', 'kctv', 'sunday', 'spoke', 'proudli', 'stride', 'said', 'countri', 'made', 'nuclear', 'weapon', 'ballist', 'missil', 'program', 'said', 'north', 'korea', 'would', 'continu', 'bolster', 'weapon', 'program', 'long', 'unit', 'state', 'remain', 'hostil', 'continu', 'joint', 'militari', 'exercis', 'south', 'korea', 'reach', 'final', 'stage', 'prepar', 'intercontinent', 'ballist', 'rocket', 'said', 'analyst', 'region', 'said', 'might', 'conduct', 'anoth', 'weapon', 'test', 'come', 'month', 'take', 'advantag', 'leadership', 'chang', 'unit', 'state', 'south', 'korea', 'trump', 'sworn', 'south', 'korea', 'presid', 'park', 'whose', 'power', 'suspend', 'parliamentari', 'impeach', 'wait', 'constitut', 'court', 'rule', 'whether', 'formal', 'remov', 'offic', 'reinstat', 'north', 'korea', 'conduct', 'test', 'come', 'month', 'test', 'trump', 'administr', 'despit', 'year', 'increasingli', 'harsh', 'sanction', 'north', 'korea', 'advanc', 'toward', 'profess', 'goal', 'arm', 'isol', 'countri', 'abil', 'deliv', 'nuclear', 'warhead', 'unit', 'state', 'speech', 'sunday', 'indic', 'north', 'korea', 'rocket', 'sever', 'time', 'year', 'complet', 'icbm', 'program', 'said', 'cheong', 'senior', 'research', 'fellow', 'sejong', 'institut', 'south', 'korea', 'first', 'test', 'could', 'come', 'even', 'trump', 'inaugur', 'cheong', 'said', 'need', 'take', 'note', 'fact', 'first', 'year', 'speech', 'mention', 'intercontinent', 'ballist', 'missil', 'said', 'speech', 'comment', 'trump', 'elect', 'doubt', 'still', 'run', 'deep', 'north', 'korea', 'master', 'technolog', 'need', 'build', 'reliabl', 'icbm', 'analyst', 'region', 'said', 'north', 'launch', 'rocket', 'satellit', 'orbit', 'recent', 'year', 'show', 'countri', 'clear', 'technolog', 'hurdl', 'north', 'satellit', 'launch', 'februari', 'south', 'korean', 'defens', 'offici', 'said', 'unha', 'rocket', 'use', 'launch', 'success', 'reconfigur', 'missil', 'could', 'mile', 'warhead', 'pound', 'enough', 'reach', 'unit', 'state', 'north', 'korea', 'deploy', 'rodong', 'ballist', 'missil', 'reach', 'south', 'korea', 'japan', 'spotti', 'record', 'musudan', 'ballist', 'missil', 'rang', 'long', 'enough', 'reach', 'american', 'militari', 'base', 'pacif', 'includ', 'guam', 'north', 'also', 'claim', 'seri', 'success', 'test', 'variou', 'icbm', 'technolog', 'although', 'claim', 'cannot', 'verifi', 'often', 'disput', 'offici', 'analyst', 'region', 'said', 'could', 'make', 'nuclear', 'warhead', 'small', 'enough', 'onto', 'ballist', 'missil', 'also', 'claim', 'success', 'test', 'technolog', 'allow', 'missil', 'return', 'earth', 'atmospher', 'without', 'break', 'april', 'north', 'korea', 'report', 'success', 'ground', 'test', 'engin', 'intercontinent', 'ballist', 'missil', 'time', 'said', 'north', 'intercontinent', 'ballist', 'rocket', 'power', 'nuclear', 'warhead', 'keep', 'cesspool', 'evil', 'earth', 'includ', 'mainland', 'within', 'strike', 'rang', 'sept', 'north', 'conduct', 'fifth', 'power', 'nuclear', 'test', 'later', 'attend', 'anoth', 'ground', 'test', 'rocket', 'engin', 'exhort', 'govern', 'prepar', 'anoth', 'rocket', 'launch', 'soon', 'possibl', 'novemb', 'unit', 'nation', 'secur', 'council', 'impos', 'sanction', 'north'], rawFeatures=SparseVector(5000, {0: 12.0, 1: 5.0, 2: 5.0, 3: 3.0, 4: 1.0, 6: 1.0, 7: 5.0, 10: 1.0, 11: 2.0, 14: 1.0, 15: 1.0, 16: 2.0, 17: 1.0, 18: 1.0, 20: 5.0, 22: 3.0, 23: 3.0, 25: 1.0, 27: 6.0, 31: 1.0, 36: 1.0, 37: 2.0, 38: 1.0, 40: 1.0, 41: 2.0, 42: 1.0, 46: 2.0, 52: 1.0, 53: 3.0, 54: 1.0, 62: 1.0, 69: 1.0, 70: 1.0, 73: 2.0, 80: 1.0, 83: 1.0, 84: 3.0, 86: 2.0, 92: 1.0, 95: 1.0, 96: 1.0, 101: 3.0, 107: 1.0, 108: 3.0, 113: 1.0, 147: 3.0, 150: 1.0, 153: 1.0, 159: 3.0, 169: 1.0, 170: 1.0, 176: 1.0, 185: 1.0, 186: 4.0, 203: 3.0, 208: 1.0, 210: 17.0, 215: 3.0, 216: 1.0, 219: 1.0, 221: 1.0, 223: 1.0, 224: 1.0, 226: 2.0, 242: 1.0, 264: 1.0, 277: 1.0, 285: 1.0, 291: 1.0, 298: 1.0, 301: 2.0, 303: 1.0, 321: 1.0, 328: 7.0, 342: 1.0, 355: 4.0, 360: 1.0, 363: 1.0, 367: 1.0, 415: 3.0, 419: 1.0, 420: 1.0, 467: 1.0, 469: 13.0, 473: 1.0, 475: 1.0, 478: 1.0, 482: 1.0, 485: 1.0, 487: 1.0, 501: 4.0, 511: 1.0, 544: 4.0, 553: 3.0, 554: 1.0, 556: 1.0, 570: 1.0, 572: 1.0, 577: 1.0, 585: 1.0, 589: 1.0, 615: 1.0, 621: 1.0, 643: 16.0, 644: 4.0, 664: 1.0, 674: 1.0, 686: 3.0, 705: 5.0, 723: 1.0, 732: 2.0, 748: 4.0, 755: 3.0, 763: 1.0, 773: 7.0, 775: 1.0, 787: 1.0, 792: 1.0, 799: 1.0, 817: 1.0, 818: 1.0, 825: 1.0, 845: 1.0, 846: 1.0, 860: 4.0, 912: 1.0, 944: 1.0, 975: 1.0, 1008: 1.0, 1019: 2.0, 1035: 1.0, 1041: 1.0, 1110: 1.0, 1112: 1.0, 1151: 12.0, 1180: 1.0, 1188: 1.0, 1220: 1.0, 1222: 1.0, 1246: 2.0, 1271: 3.0, 1276: 1.0, 1298: 1.0, 1422: 1.0, 1447: 1.0, 1467: 2.0, 1531: 1.0, 1564: 1.0, 1584: 1.0, 1612: 1.0, 1624: 1.0, 1685: 1.0, 1805: 2.0, 1817: 1.0, 1846: 1.0, 1903: 1.0, 2028: 1.0, 2031: 1.0, 2070: 1.0, 2172: 1.0, 2244: 1.0, 2307: 7.0, 2351: 1.0, 2510: 1.0, 2808: 1.0, 2988: 1.0, 3056: 1.0, 3104: 2.0, 3196: 1.0, 3249: 1.0, 3413: 1.0, 3424: 11.0, 3538: 1.0, 3629: 1.0, 3887: 1.0, 4175: 1.0, 4247: 1.0, 4257: 1.0, 4759: 1.0, 4770: 1.0, 4945: 1.0})),\n",
       " Row(id_news=17288.0, title='Sick With a Cold, Queen Elizabeth Misses New Year’s Service - The New York Times', publication='New York Times', content='LONDON  —   Queen Elizabeth II, who has been battling a cold for more than a week, missed a New Year’s Day church service at her country estate in Sandringham, Buckingham Palace said on Sunday. A week earlier, the queen, who is 90, missed a Christmas Day church service, for the first time since 1988, because of the illness. “The Queen does not yet feel ready to attend church as she is still recuperating from a heavy cold,” the palace said in a statement. The queen’s husband, Prince Philip, who had also been ill, was well enough to attend both services, in the church at Sandringham, which is in Norfolk, on the east coast of England. The queen, who ascended to the throne in 1952, became the world’s   monarch following the death of King Bhumibol Adulyadej of Thailand in October. She is also Britain’s   monarch, having last year surpassed Queen Victoria’s   reign. Her mother lived until the age of 101.', CombinedTokens=['sick', 'cold', 'queen', 'elizabeth', 'miss', 'year', 'servic', 'york', 'time', 'london', 'queen', 'elizabeth', 'battl', 'cold', 'week', 'miss', 'year', 'church', 'servic', 'countri', 'estat', 'sandringham', 'buckingham', 'palac', 'said', 'sunday', 'week', 'earlier', 'queen', 'miss', 'christma', 'church', 'servic', 'first', 'time', 'sinc', 'ill', 'queen', 'feel', 'readi', 'attend', 'church', 'still', 'recuper', 'heavi', 'cold', 'palac', 'said', 'statement', 'queen', 'husband', 'princ', 'philip', 'also', 'well', 'enough', 'attend', 'servic', 'church', 'sandringham', 'norfolk', 'east', 'coast', 'england', 'queen', 'ascend', 'throne', 'becam', 'world', 'monarch', 'follow', 'death', 'king', 'bhumibol', 'adulyadej', 'thailand', 'octob', 'also', 'britain', 'monarch', 'last', 'year', 'surpass', 'queen', 'victoria', 'reign', 'mother', 'live'], rawFeatures=SparseVector(5000, {0: 2.0, 3: 2.0, 7: 3.0, 11: 2.0, 17: 1.0, 18: 1.0, 20: 1.0, 22: 1.0, 26: 1.0, 51: 2.0, 68: 1.0, 71: 1.0, 85: 1.0, 93: 1.0, 96: 1.0, 107: 1.0, 187: 4.0, 215: 1.0, 258: 1.0, 259: 1.0, 415: 1.0, 468: 1.0, 538: 1.0, 545: 1.0, 559: 1.0, 566: 1.0, 585: 2.0, 688: 1.0, 734: 3.0, 735: 4.0, 830: 1.0, 1007: 1.0, 1023: 1.0, 1052: 1.0, 1237: 1.0, 1560: 1.0, 1607: 1.0, 1709: 1.0, 1751: 1.0, 1827: 1.0, 1891: 7.0, 1921: 1.0, 1940: 3.0, 2245: 2.0, 2391: 1.0, 2618: 1.0, 3651: 2.0, 3834: 1.0, 3956: 1.0, 4253: 1.0, 4347: 1.0, 4467: 1.0})),\n",
       " Row(id_news=17289.0, title='Taiwan’s President Accuses China of Renewed Intimidation - The New York Times', publication='New York Times', content='BEIJING  —   President Tsai   of Taiwan sharply criticized China’s leaders on Saturday, saying they had resorted to military and economic threats in order to intimidate the island. “Step by step, Beijing is going back to the old path of dividing, coercing and even threatening and intimidating Taiwan,” she told journalists in Taipei, the capital, at a   news conference. Tensions between Taiwan and China, which have been rivals since the Communist Revolution of 1949, intensified in December after Ms. Tsai spoke on the phone with the American   Donald J. Trump, breaking a longstanding diplomatic practice. In recent weeks, China has stepped up military activities near Taiwan, sending its sole aircraft carrier through the waters near the island and dispatching military planes in the region. On Monday, Beijing announced that São Tomé and Príncipe, an island nation off the west coast of Africa that was one of Taiwan’s fewer than two dozen remaining diplomatic allies, had switched its allegiance to the mainland, provoking an outcry in Taiwan. Despite Beijing’s recent actions, which she said had “hurt the feelings” of the Taiwanese people and destabilized relations, Ms. Tsai vowed to avoid a confrontation. “We will not bow to pressure, and we will of course not revert to the old path of confrontation,” she said. Ms. Tsai faces the delicate task of registering discontent with Beijing while also sending a message that Taiwan will exercise restraint. The United States, which sees Taiwan as one of its most reliable allies in Asia and has sold billions of dollars of weapons to the island, has long sought to avoid a conflict between the two sides. But the election of Mr. Trump could complicate matters. He has antagonized Beijing with a series of critical comments. The   has also questioned the One China policy, which has underpinned relations between Washington and Beijing for decades, and criticized China’s military buildup in the disputed South China Sea. Bonnie S. Glaser, an Asia expert at the Center for Strategic and International Studies in Washington, said Ms. Tsai’s words might reassure American officials that she would not pursue rash policies in the face of China’s show of strength. “She remains calm, rational and patient,” Ms. Glaser wrote in an email. Still, Ms. Tsai, whose Democratic Progressive Party has traditionally favored independence for Taiwan, could face serious challenges in the coming months. Many people in Taiwan are nervous that Mr. Trump will use the island as a bargaining chip against China. And Ms. Tsai’s preference for stability in the region may not mesh with Mr. Trump’s bombastic style. Richard C. Bush, the director of the Center for East Asia Policy Studies at the Brookings Institution in Washington, said Ms. Tsai understood the need to “maintain a balance among relations with China, relations with the United States and domestic politics. ” Ms. Tsai’s vision, however, “may not align well with the incoming Trump administration’s apparent belief that it can pressure China on all fronts more than the Obama administration has,” he said. Ms. Tsai also sought to quell concerns about planned stopovers in Houston and San Francisco during a visit to Central America scheduled for January. The Chinese Ministry of Foreign Affairs on Thursday called on the United States to block Ms. Tsai from entering the country, warning that such a visit would embolden independence activists in Taiwan. Ms. Tsai described the visit as “unofficial,” saying, “A transit stop is just a transit stop. ”', CombinedTokens=['taiwan', 'presid', 'accus', 'china', 'renew', 'intimid', 'york', 'time', 'beij', 'presid', 'tsai', 'taiwan', 'sharpli', 'critic', 'china', 'leader', 'saturday', 'say', 'resort', 'militari', 'econom', 'threat', 'order', 'intimid', 'island', 'step', 'step', 'beij', 'go', 'back', 'path', 'divid', 'coerc', 'even', 'threaten', 'intimid', 'taiwan', 'told', 'journalist', 'taipei', 'capit', 'news', 'confer', 'tension', 'taiwan', 'china', 'rival', 'sinc', 'communist', 'revolut', 'intensifi', 'decemb', 'tsai', 'spoke', 'phone', 'american', 'donald', 'trump', 'break', 'longstand', 'diplomat', 'practic', 'recent', 'week', 'china', 'step', 'militari', 'activ', 'near', 'taiwan', 'send', 'sole', 'aircraft', 'carrier', 'water', 'near', 'island', 'dispatch', 'militari', 'plane', 'region', 'monday', 'beij', 'announc', 'ncipe', 'island', 'nation', 'west', 'coast', 'africa', 'taiwan', 'fewer', 'dozen', 'remain', 'diplomat', 'alli', 'switch', 'allegi', 'mainland', 'provok', 'outcri', 'taiwan', 'despit', 'beij', 'recent', 'action', 'said', 'hurt', 'feel', 'taiwanes', 'peopl', 'destabil', 'relat', 'tsai', 'vow', 'avoid', 'confront', 'pressur', 'cours', 'revert', 'path', 'confront', 'said', 'tsai', 'face', 'delic', 'task', 'regist', 'discont', 'beij', 'also', 'send', 'messag', 'taiwan', 'exercis', 'restraint', 'unit', 'state', 'see', 'taiwan', 'reliabl', 'alli', 'asia', 'sold', 'billion', 'dollar', 'weapon', 'island', 'long', 'sought', 'avoid', 'conflict', 'side', 'elect', 'trump', 'could', 'complic', 'matter', 'antagon', 'beij', 'seri', 'critic', 'comment', 'also', 'question', 'china', 'polici', 'underpin', 'relat', 'washington', 'beij', 'decad', 'critic', 'china', 'militari', 'buildup', 'disput', 'south', 'china', 'bonni', 'glaser', 'asia', 'expert', 'center', 'strateg', 'intern', 'studi', 'washington', 'said', 'tsai', 'word', 'might', 'reassur', 'american', 'offici', 'would', 'pursu', 'rash', 'polici', 'face', 'china', 'show', 'strength', 'remain', 'calm', 'ration', 'patient', 'glaser', 'wrote', 'email', 'still', 'tsai', 'whose', 'democrat', 'progress', 'parti', 'tradit', 'favor', 'independ', 'taiwan', 'could', 'face', 'seriou', 'challeng', 'come', 'month', 'mani', 'peopl', 'taiwan', 'nervou', 'trump', 'island', 'bargain', 'chip', 'china', 'tsai', 'prefer', 'stabil', 'region', 'mesh', 'trump', 'bombast', 'style', 'richard', 'bush', 'director', 'center', 'east', 'asia', 'polici', 'studi', 'brook', 'institut', 'washington', 'said', 'tsai', 'understood', 'need', 'maintain', 'balanc', 'among', 'relat', 'china', 'relat', 'unit', 'state', 'domest', 'polit', 'tsai', 'vision', 'howev', 'align', 'well', 'incom', 'trump', 'administr', 'appar', 'belief', 'pressur', 'china', 'front', 'obama', 'administr', 'said', 'tsai', 'also', 'sought', 'quell', 'concern', 'plan', 'stopov', 'houston', 'francisco', 'visit', 'central', 'america', 'schedul', 'januari', 'chines', 'ministri', 'foreign', 'affair', 'thursday', 'call', 'unit', 'state', 'block', 'tsai', 'enter', 'countri', 'warn', 'visit', 'would', 'embolden', 'independ', 'activist', 'taiwan', 'tsai', 'describ', 'visit', 'unoffici', 'say', 'transit', 'stop', 'transit', 'stop'], rawFeatures=SparseVector(5000, {0: 5.0, 1: 5.0, 2: 3.0, 3: 1.0, 4: 2.0, 5: 2.0, 6: 2.0, 11: 3.0, 13: 1.0, 14: 2.0, 15: 1.0, 17: 1.0, 19: 1.0, 20: 1.0, 23: 2.0, 25: 1.0, 27: 3.0, 30: 1.0, 32: 1.0, 36: 1.0, 38: 1.0, 39: 1.0, 43: 1.0, 46: 1.0, 50: 1.0, 51: 1.0, 52: 2.0, 53: 1.0, 54: 1.0, 55: 1.0, 57: 1.0, 64: 1.0, 67: 1.0, 73: 1.0, 80: 2.0, 84: 1.0, 85: 1.0, 90: 3.0, 93: 1.0, 95: 2.0, 96: 1.0, 109: 1.0, 110: 1.0, 113: 1.0, 129: 3.0, 133: 3.0, 136: 1.0, 139: 3.0, 149: 1.0, 159: 1.0, 178: 1.0, 188: 1.0, 204: 1.0, 206: 1.0, 208: 2.0, 209: 1.0, 214: 1.0, 216: 1.0, 217: 1.0, 223: 1.0, 226: 4.0, 236: 1.0, 239: 2.0, 254: 2.0, 255: 1.0, 256: 1.0, 258: 1.0, 275: 11.0, 290: 1.0, 311: 1.0, 316: 1.0, 320: 1.0, 328: 1.0, 347: 1.0, 353: 2.0, 358: 1.0, 369: 1.0, 377: 1.0, 385: 1.0, 388: 1.0, 390: 1.0, 408: 1.0, 419: 1.0, 424: 3.0, 425: 1.0, 435: 1.0, 443: 1.0, 457: 3.0, 471: 1.0, 472: 1.0, 473: 1.0, 475: 1.0, 485: 1.0, 493: 1.0, 510: 1.0, 511: 1.0, 536: 4.0, 541: 2.0, 544: 1.0, 553: 2.0, 563: 1.0, 654: 1.0, 655: 1.0, 660: 2.0, 663: 1.0, 670: 1.0, 674: 1.0, 678: 1.0, 688: 1.0, 689: 1.0, 694: 1.0, 704: 1.0, 711: 1.0, 714: 1.0, 723: 1.0, 726: 1.0, 742: 1.0, 744: 2.0, 762: 2.0, 767: 1.0, 780: 1.0, 787: 1.0, 788: 1.0, 841: 2.0, 857: 1.0, 861: 2.0, 874: 1.0, 881: 5.0, 895: 1.0, 897: 1.0, 959: 2.0, 968: 1.0, 976: 1.0, 981: 1.0, 1003: 1.0, 1119: 1.0, 1139: 1.0, 1150: 1.0, 1176: 1.0, 1223: 1.0, 1240: 1.0, 1253: 2.0, 1259: 1.0, 1300: 1.0, 1319: 2.0, 1325: 1.0, 1343: 1.0, 1344: 1.0, 1346: 1.0, 1360: 1.0, 1380: 2.0, 1422: 1.0, 1462: 1.0, 1521: 1.0, 1523: 1.0, 1533: 2.0, 1558: 1.0, 1582: 1.0, 1584: 1.0, 1607: 1.0, 1627: 1.0, 1649: 1.0, 1666: 1.0, 1746: 1.0, 1752: 1.0, 1769: 7.0, 1774: 1.0, 1803: 1.0, 1832: 1.0, 1838: 1.0, 1879: 1.0, 1976: 1.0, 2098: 1.0, 2111: 1.0, 2181: 1.0, 2186: 1.0, 2212: 1.0, 2241: 3.0, 2432: 1.0, 2442: 1.0, 2500: 1.0, 2664: 1.0, 2760: 1.0, 2804: 1.0, 2874: 1.0, 2876: 12.0, 2988: 1.0, 3103: 1.0, 3153: 3.0, 3164: 1.0, 3193: 1.0, 3327: 1.0, 3345: 1.0, 3512: 1.0, 3579: 1.0, 3692: 1.0, 3777: 1.0, 3873: 1.0, 4341: 1.0, 4491: 1.0, 4663: 1.0, 4770: 1.0})),\n",
       " Row(id_news=17292.0, title='Calling on Angels While Enduring the Trials of Job - The New York Times', publication='New York Times', content='Angels are everywhere in the Muñiz family’s apartment in the Bronx: paintings of angels on the wall, ceramic angels flanking the ancient VCR, angels strumming lyres or blowing little golden trumpets on the bathroom shelves. As José and Zoraida Muñiz and their children have struggled to deal with a   series of trials and setbacks, including cancer, debilitating epilepsy, deep depression and near eviction, it has sometimes seemed as if angels and love were the only forces holding things together. Zoraida’s early life in Puerto Rico was like something from a tropical Dickens novel. She and her siblings and mother built a house by hand after a hurricane ravaged their home and the children’s father withdrew support. Then Zoraida’s grandfather  —   the father of her absent father  —   destroyed the house in a rage. She was barely a teenager when she met José, a Vietnam War veteran. With permission from her uncle, a judge, they were married. She was 14. He was 29. They moved to New York in 1983 and started a new life. He built boilers. She worked in construction, using skills she learned as a child, and in a clothing store. But in 1987, Mr. Muñiz began having violent seizures  —   eight or 10 a day. They did not respond to medication. He could no longer work. She stopped working to take care of him. Still determined to live something like a normal life, they started a family. Their first child, José Jr. had a heart defect. By the time he was 2 he had had six   operations. That’s where the angels came in  —   the first one was a painting, a gift from a cousin.  “When they operated on my son, they told me he was an angel, because he was supposed to die,” Ms. Muñiz, 50, said. “From there I figured that angels are taking care of me and protecting me and my family. ” All the angels are gifts from friends and relatives, or picked up off the street, just like all the furniture in the Muñizes’ overstuffed apartment in a   complex on Westchester Avenue in the Bronx, much of it restored by Ms. Muñiz. “So many people throw away things, so I don’t have to buy,” she said. A second son, Jesus, became epileptic at 3. A girl, Maria, completed the family. In 2007, Mr. Muñiz had what felt like a horrible, stubborn toothache. It turned out to be cancer of the lower jaw. Ms. Muñiz stayed in the room with her husband while he received radiation treatment. “I’m willing to take anything with him,” she said. “I never left him alone, and I never will. ” Radiation did not work. To save Mr. Muñiz’s life, surgeons removed his tongue and his lower jaw and cut a hole through his esophagus. Disfigured, depressed and unable to speak, he can consume nothing thicker than milk and needs   care. This is the household where the Muñiz children grew up. “We’ve been through every craziness,” said José Jr. 24, who has suffered depression so severe that he dropped out of college and confined himself to the apartment, “every up and down. ” For years at a time, the family held on, seemingly by a thread. Over the summer, the younger son, Jesus, 22, got a   job at a Zaro’s Bakery in Manhattan’s financial district. Because the family’s rent is tied to income, the rent tripled in August, to about $770 a month from $245. But Jesus had school bills to pay, and the family paid some of the funeral expenses for José Sr. ’s mother, who died over the summer, and things began to unravel. They fell behind on the rent and utilities. Food was often scarce. The family regularly skipped meals. It was around this time that Ms. Muñiz got in touch with Catholic Charities Archdiocese of New York, one of the eight organizations supported by The New York Times’s Neediest Cases Fund. It covered their back rent, got them warm coats and blankets and helped them apply for food stamps for the first time. And with $600 from the Neediest Cases Fund, the family paid its electric bill. Things are looking up in some ways. Jesus is returning to college, where he is on a   track and wants to be a paramedic. Maria graduated in December from a   nursing program. Thinking of her father and his illness, she wants to be an oncologist. José Jr. was just accepted to the New York Film Academy’s photography program. But José Sr. continues to battle cancer. Zoraida is severely depressed. What keeps her going? she was asked. She gestured toward her family, sitting beside her beneath the painted angels. “They give me my strength, even if I have times I collapse,” she said. José Jr. agreed. “I use my parents and siblings as my motivation,” he said. “We’re all there for each other,” Ms. Muñiz said.', CombinedTokens=['call', 'angel', 'endur', 'trial', 'york', 'time', 'angel', 'everywher', 'famili', 'apart', 'bronx', 'paint', 'angel', 'wall', 'ceram', 'angel', 'flank', 'ancient', 'angel', 'strum', 'lyre', 'blow', 'littl', 'golden', 'trumpet', 'bathroom', 'shelv', 'zoraida', 'children', 'struggl', 'deal', 'seri', 'trial', 'setback', 'includ', 'cancer', 'debilit', 'epilepsi', 'deep', 'depress', 'near', 'evict', 'sometim', 'seem', 'angel', 'love', 'forc', 'hold', 'thing', 'togeth', 'zoraida', 'earli', 'life', 'puerto', 'rico', 'like', 'someth', 'tropic', 'dicken', 'novel', 'sibl', 'mother', 'built', 'hous', 'hand', 'hurrican', 'ravag', 'home', 'children', 'father', 'withdrew', 'support', 'zoraida', 'grandfath', 'father', 'absent', 'father', 'destroy', 'hous', 'rage', 'bare', 'teenag', 'vietnam', 'veteran', 'permiss', 'uncl', 'judg', 'marri', 'move', 'york', 'start', 'life', 'built', 'boiler', 'work', 'construct', 'use', 'skill', 'learn', 'child', 'cloth', 'store', 'began', 'violent', 'seizur', 'eight', 'respond', 'medic', 'could', 'longer', 'work', 'stop', 'work', 'take', 'care', 'still', 'determin', 'live', 'someth', 'like', 'normal', 'life', 'start', 'famili', 'first', 'child', 'heart', 'defect', 'time', 'oper', 'angel', 'came', 'first', 'paint', 'gift', 'cousin', 'oper', 'told', 'angel', 'suppos', 'said', 'figur', 'angel', 'take', 'care', 'protect', 'famili', 'angel', 'gift', 'friend', 'rel', 'pick', 'street', 'like', 'furnitur', 'ize', 'overstuf', 'apart', 'complex', 'westchest', 'avenu', 'bronx', 'much', 'restor', 'mani', 'peopl', 'throw', 'away', 'thing', 'said', 'second', 'jesu', 'becam', 'epilept', 'girl', 'maria', 'complet', 'famili', 'felt', 'like', 'horribl', 'stubborn', 'toothach', 'turn', 'cancer', 'lower', 'stay', 'room', 'husband', 'receiv', 'radiat', 'treatment', 'will', 'take', 'anyth', 'said', 'never', 'left', 'alon', 'never', 'radiat', 'work', 'save', 'life', 'surgeon', 'remov', 'tongu', 'lower', 'hole', 'esophagu', 'disfigur', 'depress', 'unabl', 'speak', 'consum', 'noth', 'thicker', 'milk', 'need', 'care', 'household', 'children', 'grew', 'everi', 'crazi', 'said', 'suffer', 'depress', 'sever', 'drop', 'colleg', 'confin', 'apart', 'everi', 'year', 'time', 'famili', 'held', 'seemingli', 'thread', 'summer', 'younger', 'jesu', 'zaro', 'bakeri', 'manhattan', 'financi', 'district', 'famili', 'rent', 'tie', 'incom', 'rent', 'tripl', 'august', 'month', 'jesu', 'school', 'bill', 'famili', 'paid', 'funer', 'expens', 'mother', 'die', 'summer', 'thing', 'began', 'unravel', 'fell', 'behind', 'rent', 'util', 'food', 'often', 'scarc', 'famili', 'regularli', 'skip', 'meal', 'around', 'time', 'touch', 'cathol', 'chariti', 'archdioces', 'york', 'eight', 'organ', 'support', 'york', 'time', 'neediest', 'case', 'fund', 'cover', 'back', 'rent', 'warm', 'coat', 'blanket', 'help', 'appli', 'food', 'stamp', 'first', 'time', 'neediest', 'case', 'fund', 'famili', 'paid', 'electr', 'bill', 'thing', 'look', 'way', 'jesu', 'return', 'colleg', 'track', 'want', 'paramed', 'maria', 'graduat', 'decemb', 'nurs', 'program', 'think', 'father', 'ill', 'want', 'oncologist', 'accept', 'york', 'film', 'academi', 'photographi', 'program', 'continu', 'battl', 'cancer', 'zoraida', 'sever', 'depress', 'keep', 'go', 'ask', 'gestur', 'toward', 'famili', 'sit', 'besid', 'beneath', 'paint', 'angel', 'give', 'strength', 'even', 'time', 'collaps', 'said', 'agre', 'parent', 'sibl', 'motiv', 'said', 'said'], rawFeatures=SparseVector(5000, {0: 7.0, 3: 7.0, 5: 1.0, 7: 1.0, 8: 4.0, 17: 5.0, 19: 1.0, 22: 3.0, 23: 1.0, 24: 4.0, 25: 1.0, 29: 2.0, 32: 1.0, 33: 2.0, 34: 2.0, 37: 1.0, 41: 3.0, 44: 1.0, 50: 1.0, 55: 1.0, 57: 1.0, 68: 1.0, 69: 1.0, 73: 1.0, 77: 1.0, 81: 1.0, 84: 1.0, 86: 1.0, 89: 2.0, 94: 1.0, 96: 1.0, 97: 4.0, 100: 10.0, 103: 1.0, 106: 1.0, 112: 1.0, 114: 2.0, 128: 1.0, 130: 1.0, 131: 1.0, 143: 2.0, 150: 2.0, 153: 2.0, 155: 1.0, 158: 2.0, 163: 1.0, 167: 1.0, 171: 1.0, 175: 3.0, 179: 4.0, 184: 1.0, 203: 2.0, 211: 3.0, 224: 1.0, 225: 1.0, 231: 1.0, 232: 1.0, 239: 1.0, 240: 2.0, 245: 1.0, 250: 1.0, 251: 1.0, 265: 2.0, 269: 1.0, 274: 2.0, 289: 1.0, 309: 1.0, 314: 1.0, 317: 1.0, 321: 1.0, 325: 1.0, 335: 1.0, 356: 1.0, 357: 1.0, 367: 1.0, 372: 1.0, 375: 1.0, 386: 2.0, 401: 1.0, 429: 2.0, 433: 1.0, 459: 1.0, 463: 1.0, 467: 1.0, 485: 1.0, 486: 1.0, 505: 1.0, 509: 1.0, 517: 1.0, 521: 1.0, 530: 4.0, 537: 1.0, 538: 2.0, 541: 1.0, 545: 1.0, 551: 1.0, 565: 1.0, 569: 1.0, 572: 1.0, 578: 1.0, 589: 1.0, 594: 1.0, 596: 1.0, 607: 1.0, 639: 11.0, 648: 1.0, 662: 2.0, 666: 1.0, 681: 2.0, 696: 1.0, 708: 1.0, 784: 1.0, 790: 1.0, 795: 1.0, 804: 1.0, 807: 1.0, 821: 2.0, 830: 1.0, 834: 1.0, 851: 1.0, 857: 1.0, 865: 2.0, 871: 1.0, 872: 2.0, 880: 1.0, 889: 1.0, 892: 1.0, 903: 1.0, 930: 2.0, 939: 1.0, 946: 1.0, 963: 2.0, 981: 1.0, 995: 1.0, 1014: 1.0, 1023: 1.0, 1026: 3.0, 1040: 1.0, 1103: 1.0, 1137: 1.0, 1180: 1.0, 1186: 1.0, 1190: 1.0, 1213: 1.0, 1218: 1.0, 1222: 1.0, 1265: 1.0, 1272: 2.0, 1294: 1.0, 1318: 1.0, 1368: 1.0, 1391: 1.0, 1402: 3.0, 1408: 1.0, 1436: 1.0, 1444: 1.0, 1475: 1.0, 1505: 1.0, 1518: 1.0, 1520: 1.0, 1529: 1.0, 1572: 3.0, 1574: 1.0, 1592: 1.0, 1615: 1.0, 1654: 1.0, 1671: 1.0, 1698: 1.0, 1706: 1.0, 1714: 1.0, 1838: 1.0, 1877: 1.0, 1913: 1.0, 1914: 1.0, 1919: 1.0, 2034: 1.0, 2038: 2.0, 2060: 1.0, 2163: 1.0, 2226: 1.0, 2234: 1.0, 2259: 1.0, 2275: 1.0, 2299: 4.0, 2438: 1.0, 2462: 1.0, 2523: 1.0, 2528: 1.0, 2530: 1.0, 2575: 4.0, 2618: 1.0, 2623: 1.0, 2627: 1.0, 2650: 1.0, 2674: 1.0, 2682: 4.0, 2711: 1.0, 2753: 1.0, 2762: 1.0, 2784: 1.0, 2809: 1.0, 2814: 1.0, 2969: 1.0, 2982: 1.0, 3010: 1.0, 3127: 1.0, 3139: 1.0, 3215: 1.0, 3348: 1.0, 3359: 2.0, 3387: 1.0, 3769: 1.0, 3892: 1.0, 3955: 1.0, 3989: 1.0, 3993: 1.0, 4038: 2.0, 4059: 1.0, 4148: 1.0, 4452: 1.0, 4459: 1.0, 4655: 2.0, 4775: 1.0, 4803: 1.0, 4809: 2.0, 4925: 1.0, 4994: 1.0})),\n",
       " Row(id_news=17293.0, title='Weak Federal Powers Could Limit Trump’s Climate-Policy Rollback - The New York Times', publication='New York Times', content='With Donald J. Trump about to take control of the White House, it would seem a dark time for the renewable energy industry. After all, Mr. Trump has mocked the science of global warming as a Chinese hoax, threatened to kill a global deal on climate change and promised to restore the coal industry to its former glory. So consider what happened in the middle of December, after investors had had a month to absorb the implications of Mr. Trump’s victory. The federal government opened bidding on a tract of the ocean floor off New York State as a potential site for a huge wind farm. Up, up and away soared the offers  —   interest from the bidders was so fevered that the auction went through 33 rounds and spilled over to a second day. In the end, the winning bidder offered the federal Treasury $42 million, more than twice what the government got in August for oil leases  —   oil leases  —   in the Gulf of Mexico. Who won the bid? None other than Statoil, the Norwegian oil company, which is in the midst of a major campaign to turn itself into a big player in renewable energy. We do not know for sure that the New York wind farm will get built, but we do know this: The energy transition is real, and Mr. Trump is not going to stop it. On a global scale, more than half the investment in new electricity generation is going into renewable energy. That is more than $300 billion a year, a sign of how powerful the momentum has become. Wind power is booming in the United States, with the industry adding manufacturing jobs in the reddest states. When Mr. Trump’s appointees examine the facts, they will learn that   technician is projected to be the   occupation in America over the next decade. The election of Mr. Trump left climate activists and environmental groups in despair. They had pinned their hopes on a Hillary Clinton victory and a continuation of President Obama’s strong push to tackle global warming. Now, of course, everything is in flux. In the worst case, with a sufficiently pliant Congress, Mr. Trump could roll back a decade of progress on climate change. Barring some miraculous conversion on Mr. Trump’s part, his election cannot be interpreted as anything but bad news for the climate agenda. Yet despair might be an overreaction. For starters, when Mr. Trump gets to the White House, he will find that the federal government actually has relatively little control over American energy policy, and particularly over electricity generation. The coal industry has been ravaged in part by cheap natural gas, which is abundant because of technological changes in the way it is produced, and there is no lever in the Oval Office that Mr. Trump can pull to reverse that. The intrinsically weak federal role was a source of frustration for Mr. Obama and his aides, but now it will work to the benefit of environmental advocates. They have already persuaded more than half the states to adopt mandates on renewable energy. Efforts to roll those back have largely failed, with the latest development coming only last week, when Gov. John Kasich of Ohio, a Republican, vetoed a rollback bill. The federal government does offer important subsidies for renewable energy, and they will surely become a target in the new Congress. But those subsidies are already scheduled to fall drastically over five years, in a deal cut a year ago that gave the oil industry some favors and that passed Congress with many Republican votes. If Mr. Trump pushes for an early end to the subsidies, he will find that renewable energy has friends in the Republican Party. Topping that list is Charles E. Grassley, the senior senator from Iowa. That state  —     in presidential politics, let us remember  —   will soon be getting 40 percent of its electricity from wind power. “Senator Grassley has been and continues to be an extraordinary leader and champion for the wind industry,” said Tom Kiernan, the head of the American Wind Energy Association, a trade group. When I spoke with him last week, Mr. Kiernan did not sound like a man gnashing his teeth about the impending Trump era. By his group’s calculations, $80 billion of wind industry investment is in the pipeline for the United States over the next few years. “We are creating jobs throughout America,   jobs, and we think   Trump will want that to continue,” he said. If Mr. Trump really wanted to roll back the clock, he could try to get Congress to override all the state mandates, a gross violation of the supposed conservative commitment to federalism. But it would be a titanic fight, some Republican senators would defect on principle, and Mr. Trump would almost certainly lose. So if the damage Mr. Trump can do domestically is limited by circumstance, what about the international effort against global warming? That is the prospect that has David G. Victor most worried. Dr. Victor, a professor at the University of California at San Diego, is one of the closest observers of global climate politics. While the nations of the world agreed a year ago to a landmark deal to tackle global warming, that consensus is fragile, he pointed out. The Paris Agreement is really an outline more promise than reality. Mr. Trump has vowed to withdraw. Right now, other countries are saying they will go forward even if he does so, but it is not hard to imagine the thing unraveling. As part of the negotiations, the Obama administration promised billions of dollars from American taxpayers to help poor countries adjust to the devastation of global warming. “That’s a big part of the glue that held the Paris deal together,” Dr. Victor pointed out. Mr. Trump is considered likely to abandon that pledge. Perhaps the biggest threat to the climate agenda posed by the incoming administration is not anything that Mr. Trump might do, but rather what he will not do. While the energy transition is real, it is still in its earliest stages. Iowa may soon get 40 percent of its power from wind, but for the United States as a whole, the figure is closer to 5 percent. The transition is simply not happening fast enough. The pledges countries made in Paris, even if kept, are not ambitious enough. To meet the climate goals embodied in the Paris Agreement, the world needed an American president who would have pushed hard to accelerate the energy transition. You can debate whether Mrs. Clinton would have been that president, but it is certainly clear that Mr. Trump will not be. So as Washington goes into reverse gear on climate policy, seas will keep rising and heat waves will get worse. Later this month, global monitoring agencies are expected to report that 2016 was the hottest year in the historical record, beating out 2015, which beat out 2014. If nothing else, the next four years may be a fascinating test of just how far politics can become divorced from physical reality.', CombinedTokens=['weak', 'feder', 'power', 'could', 'limit', 'trump', 'climat', 'polici', 'rollback', 'york', 'time', 'donald', 'trump', 'take', 'control', 'white', 'hous', 'would', 'seem', 'dark', 'time', 'renew', 'energi', 'industri', 'trump', 'mock', 'scienc', 'global', 'warm', 'chines', 'hoax', 'threaten', 'kill', 'global', 'deal', 'climat', 'chang', 'promis', 'restor', 'coal', 'industri', 'former', 'glori', 'consid', 'happen', 'middl', 'decemb', 'investor', 'month', 'absorb', 'implic', 'trump', 'victori', 'feder', 'govern', 'open', 'bid', 'tract', 'ocean', 'floor', 'york', 'state', 'potenti', 'site', 'huge', 'wind', 'farm', 'away', 'soar', 'offer', 'interest', 'bidder', 'fever', 'auction', 'went', 'round', 'spill', 'second', 'win', 'bidder', 'offer', 'feder', 'treasuri', 'million', 'twice', 'govern', 'august', 'leas', 'leas', 'gulf', 'mexico', 'none', 'statoil', 'norwegian', 'compani', 'midst', 'major', 'campaign', 'turn', 'player', 'renew', 'energi', 'know', 'sure', 'york', 'wind', 'farm', 'built', 'know', 'energi', 'transit', 'real', 'trump', 'go', 'stop', 'global', 'scale', 'half', 'invest', 'electr', 'gener', 'go', 'renew', 'energi', 'billion', 'year', 'sign', 'power', 'momentum', 'becom', 'wind', 'power', 'boom', 'unit', 'state', 'industri', 'ad', 'manufactur', 'job', 'reddest', 'state', 'trump', 'appointe', 'examin', 'fact', 'learn', 'technician', 'project', 'occup', 'america', 'next', 'decad', 'elect', 'trump', 'left', 'climat', 'activist', 'environment', 'group', 'despair', 'pin', 'hope', 'hillari', 'clinton', 'victori', 'continu', 'presid', 'obama', 'strong', 'push', 'tackl', 'global', 'warm', 'cours', 'everyth', 'flux', 'worst', 'case', 'suffici', 'pliant', 'congress', 'trump', 'could', 'roll', 'back', 'decad', 'progress', 'climat', 'chang', 'bar', 'miracul', 'convers', 'trump', 'part', 'elect', 'cannot', 'interpret', 'anyth', 'news', 'climat', 'agenda', 'despair', 'might', 'overreact', 'starter', 'trump', 'get', 'white', 'hous', 'find', 'feder', 'govern', 'actual', 'rel', 'littl', 'control', 'american', 'energi', 'polici', 'particularli', 'electr', 'gener', 'coal', 'industri', 'ravag', 'part', 'cheap', 'natur', 'abund', 'technolog', 'chang', 'produc', 'lever', 'oval', 'offic', 'trump', 'pull', 'revers', 'intrins', 'weak', 'feder', 'role', 'sourc', 'frustrat', 'obama', 'aid', 'work', 'benefit', 'environment', 'advoc', 'alreadi', 'persuad', 'half', 'state', 'adopt', 'mandat', 'renew', 'energi', 'effort', 'roll', 'back', 'larg', 'fail', 'latest', 'develop', 'come', 'last', 'week', 'john', 'kasich', 'ohio', 'republican', 'veto', 'rollback', 'bill', 'feder', 'govern', 'offer', 'import', 'subsidi', 'renew', 'energi', 'sure', 'becom', 'target', 'congress', 'subsidi', 'alreadi', 'schedul', 'fall', 'drastic', 'five', 'year', 'deal', 'year', 'gave', 'industri', 'favor', 'pass', 'congress', 'mani', 'republican', 'vote', 'trump', 'push', 'earli', 'subsidi', 'find', 'renew', 'energi', 'friend', 'republican', 'parti', 'top', 'list', 'charl', 'grassley', 'senior', 'senat', 'iowa', 'state', 'presidenti', 'polit', 'rememb', 'soon', 'get', 'percent', 'electr', 'wind', 'power', 'senat', 'grassley', 'continu', 'extraordinari', 'leader', 'champion', 'wind', 'industri', 'said', 'kiernan', 'head', 'american', 'wind', 'energi', 'associ', 'trade', 'group', 'spoke', 'last', 'week', 'kiernan', 'sound', 'like', 'gnash', 'teeth', 'impend', 'trump', 'group', 'calcul', 'billion', 'wind', 'industri', 'invest', 'pipelin', 'unit', 'state', 'next', 'year', 'creat', 'job', 'throughout', 'america', 'job', 'think', 'trump', 'want', 'continu', 'said', 'trump', 'realli', 'want', 'roll', 'back', 'clock', 'could', 'congress', 'overrid', 'state', 'mandat', 'gross', 'violat', 'suppos', 'conserv', 'commit', 'feder', 'would', 'titan', 'fight', 'republican', 'senat', 'would', 'defect', 'principl', 'trump', 'would', 'almost', 'certainli', 'lose', 'damag', 'trump', 'domest', 'limit', 'circumst', 'intern', 'effort', 'global', 'warm', 'prospect', 'david', 'victor', 'worri', 'victor', 'professor', 'univers', 'california', 'diego', 'closest', 'observ', 'global', 'climat', 'polit', 'nation', 'world', 'agre', 'year', 'landmark', 'deal', 'tackl', 'global', 'warm', 'consensu', 'fragil', 'point', 'pari', 'agreement', 'realli', 'outlin', 'promis', 'realiti', 'trump', 'vow', 'withdraw', 'right', 'countri', 'say', 'forward', 'even', 'hard', 'imagin', 'thing', 'unravel', 'part', 'negoti', 'obama', 'administr', 'promis', 'billion', 'dollar', 'american', 'taxpay', 'help', 'poor', 'countri', 'adjust', 'devast', 'global', 'warm', 'part', 'glue', 'held', 'pari', 'deal', 'togeth', 'victor', 'point', 'trump', 'consid', 'like', 'abandon', 'pledg', 'perhap', 'biggest', 'threat', 'climat', 'agenda', 'pose', 'incom', 'administr', 'anyth', 'trump', 'might', 'rather', 'energi', 'transit', 'real', 'still', 'earliest', 'stage', 'iowa', 'soon', 'percent', 'power', 'wind', 'unit', 'state', 'whole', 'figur', 'closer', 'percent', 'transit', 'simpli', 'happen', 'fast', 'enough', 'pledg', 'countri', 'made', 'pari', 'even', 'kept', 'ambiti', 'enough', 'meet', 'climat', 'goal', 'embodi', 'pari', 'agreement', 'world', 'need', 'american', 'presid', 'would', 'push', 'hard', 'acceler', 'energi', 'transit', 'debat', 'whether', 'clinton', 'would', 'presid', 'certainli', 'clear', 'trump', 'washington', 'goe', 'revers', 'gear', 'climat', 'polici', 'sea', 'keep', 'rise', 'heat', 'wave', 'wors', 'later', 'month', 'global', 'monitor', 'agenc', 'expect', 'report', 'hottest', 'year', 'histor', 'record', 'beat', 'beat', 'noth', 'els', 'next', 'four', 'year', 'fascin', 'test', 'polit', 'becom', 'divorc', 'physic', 'realiti'], rawFeatures=SparseVector(5000, {0: 2.0, 1: 21.0, 2: 8.0, 3: 2.0, 4: 6.0, 6: 3.0, 7: 7.0, 8: 2.0, 10: 1.0, 12: 2.0, 13: 1.0, 14: 4.0, 15: 1.0, 17: 3.0, 18: 2.0, 20: 3.0, 23: 3.0, 24: 1.0, 25: 2.0, 27: 3.0, 28: 4.0, 30: 3.0, 31: 4.0, 32: 1.0, 33: 2.0, 34: 2.0, 35: 1.0, 36: 1.0, 39: 3.0, 40: 1.0, 41: 1.0, 44: 1.0, 47: 1.0, 48: 3.0, 49: 3.0, 50: 2.0, 51: 2.0, 52: 1.0, 53: 1.0, 54: 2.0, 57: 3.0, 58: 1.0, 59: 1.0, 61: 2.0, 62: 1.0, 63: 2.0, 64: 1.0, 65: 1.0, 71: 2.0, 73: 1.0, 74: 1.0, 75: 1.0, 80: 2.0, 81: 1.0, 82: 3.0, 83: 3.0, 84: 2.0, 86: 3.0, 87: 1.0, 89: 1.0, 90: 3.0, 91: 4.0, 96: 1.0, 97: 1.0, 98: 2.0, 99: 2.0, 102: 7.0, 109: 2.0, 113: 1.0, 114: 1.0, 116: 1.0, 125: 1.0, 133: 1.0, 134: 1.0, 138: 1.0, 146: 1.0, 147: 5.0, 152: 1.0, 163: 4.0, 167: 1.0, 169: 1.0, 171: 1.0, 174: 3.0, 181: 1.0, 189: 2.0, 192: 3.0, 197: 2.0, 202: 2.0, 213: 1.0, 219: 1.0, 222: 1.0, 223: 2.0, 224: 1.0, 230: 2.0, 231: 1.0, 232: 1.0, 235: 1.0, 236: 1.0, 237: 2.0, 239: 1.0, 242: 1.0, 248: 1.0, 252: 3.0, 264: 1.0, 267: 1.0, 268: 1.0, 269: 1.0, 273: 1.0, 278: 1.0, 280: 1.0, 282: 1.0, 286: 2.0, 287: 1.0, 291: 1.0, 294: 1.0, 307: 1.0, 314: 1.0, 327: 2.0, 333: 1.0, 335: 1.0, 340: 1.0, 342: 1.0, 343: 2.0, 344: 1.0, 346: 4.0, 350: 1.0, 360: 1.0, 369: 3.0, 370: 1.0, 372: 1.0, 374: 2.0, 376: 1.0, 387: 1.0, 388: 1.0, 394: 1.0, 403: 1.0, 410: 3.0, 412: 1.0, 415: 2.0, 416: 3.0, 418: 1.0, 436: 3.0, 444: 9.0, 459: 1.0, 460: 2.0, 463: 1.0, 464: 1.0, 465: 7.0, 469: 1.0, 473: 2.0, 476: 1.0, 486: 1.0, 491: 1.0, 492: 1.0, 493: 1.0, 503: 1.0, 517: 1.0, 522: 1.0, 526: 1.0, 539: 1.0, 551: 2.0, 568: 1.0, 571: 2.0, 578: 1.0, 590: 1.0, 608: 2.0, 610: 1.0, 614: 2.0, 624: 1.0, 625: 1.0, 630: 1.0, 633: 2.0, 640: 9.0, 644: 1.0, 648: 1.0, 652: 1.0, 653: 2.0, 658: 1.0, 669: 1.0, 676: 1.0, 680: 1.0, 682: 1.0, 689: 1.0, 697: 1.0, 704: 1.0, 706: 1.0, 718: 1.0, 723: 1.0, 742: 1.0, 750: 2.0, 756: 1.0, 763: 1.0, 780: 1.0, 787: 1.0, 788: 1.0, 789: 1.0, 792: 2.0, 793: 1.0, 794: 1.0, 796: 1.0, 798: 1.0, 808: 1.0, 818: 1.0, 827: 1.0, 832: 1.0, 835: 1.0, 838: 4.0, 853: 1.0, 857: 1.0, 867: 1.0, 879: 1.0, 885: 1.0, 895: 1.0, 912: 1.0, 925: 11.0, 959: 4.0, 964: 1.0, 978: 1.0, 981: 1.0, 990: 1.0, 998: 2.0, 1009: 1.0, 1014: 1.0, 1034: 2.0, 1040: 1.0, 1055: 1.0, 1073: 1.0, 1091: 1.0, 1092: 2.0, 1097: 1.0, 1105: 1.0, 1106: 1.0, 1115: 2.0, 1134: 1.0, 1169: 3.0, 1174: 2.0, 1203: 1.0, 1226: 1.0, 1236: 1.0, 1255: 1.0, 1269: 1.0, 1272: 1.0, 1273: 1.0, 1301: 1.0, 1327: 1.0, 1338: 1.0, 1346: 1.0, 1351: 1.0, 1378: 1.0, 1408: 1.0, 1418: 2.0, 1429: 1.0, 1456: 1.0, 1464: 1.0, 1465: 1.0, 1490: 2.0, 1499: 1.0, 1521: 1.0, 1536: 1.0, 1574: 5.0, 1578: 1.0, 1598: 1.0, 1618: 1.0, 1620: 2.0, 1628: 1.0, 1646: 1.0, 1667: 1.0, 1671: 1.0, 1681: 1.0, 1696: 1.0, 1741: 1.0, 1748: 1.0, 1797: 1.0, 1830: 1.0, 1857: 2.0, 1877: 3.0, 1917: 2.0, 1976: 6.0, 1984: 8.0, 1988: 1.0, 1990: 1.0, 2001: 2.0, 2005: 1.0, 2014: 1.0, 2017: 1.0, 2116: 1.0, 2143: 1.0, 2151: 1.0, 2193: 1.0, 2218: 2.0, 2242: 1.0, 2352: 1.0, 2418: 1.0, 2556: 1.0, 2563: 1.0, 2590: 1.0, 2658: 1.0, 2706: 1.0, 2709: 1.0, 2774: 1.0, 2825: 1.0, 2839: 1.0, 2864: 2.0, 2890: 3.0, 2946: 1.0, 2970: 1.0, 2975: 1.0, 3003: 1.0, 3021: 1.0, 3115: 1.0, 3139: 1.0, 3192: 1.0, 3195: 1.0, 3200: 1.0, 3273: 1.0, 3299: 1.0, 3312: 1.0, 3475: 1.0, 3539: 1.0, 3647: 2.0, 3776: 1.0, 3795: 1.0, 3849: 2.0, 4015: 1.0, 4061: 1.0, 4128: 1.0, 4142: 1.0, 4215: 1.0, 4260: 1.0, 4291: 1.0, 4465: 1.0, 4611: 1.0, 4660: 1.0, 4820: 1.0, 4920: 1.0})),\n",
       " Row(id_news=17295.0, title='Mar-a-Lago, the Future Winter White House and Home of the Calmer Trump - The New York Times', publication='New York Times', content='WEST PALM BEACH, Fla.  —   When   Donald J. Trump rang in the new year this weekend, he did it in   opulence, joined by the actor Sylvester Stallone, the gossip page fixture Fabio and a crowd of wealthy developers reveling under the swaying palm trees at Mr. Trump’s    resort in Palm Beach. President George W. Bush had his ranch in Crawford, Tex. His father had a compound in Kennebunkport, Me. President Obama has taken frequent vacations in Hawaii, staying at a private home. But Mr. Trump’s   private club in Florida, where he has spent the past two weeks away from his home in New York City, is likely to eclipse them all as the 45th president’s winter White House. And that was always the intention of Marjorie Meriweather Post, the cereal heiress and the property’s original owner, who left    to the federal government when she died in 1973, hoping it would serve as a home for presidents. But the government had no interest in her plan, and Mr. Trump later bought the property for less than $10 million, turning it into a club where membership costs six figures. Mr. Trump’s arrival was greeted with sneers by the Palm Beach elite, and he opened up   ’s membership to Jews and   who had been excluded from other   establishments. He was also the first club owner on the island to admit an openly gay couple. Since Mr. Trump’s victory in November,    has been stuffed with guests attracted by an amenity unique to this club: the chance to rub shoulders with the next president. “It’s like going to Disneyland and knowing Mickey Mouse will be there all day long,” said Jeff Greene, a developer and unsuccessful Democratic candidate for the Senate from Florida in 2010, who is a    member and was a Hillary Clinton supporter. Instead of hosting major corporate executives and potential cabinet secretaries for interviews inside a boxy transition office at Trump Tower in Midtown Manhattan, Mr. Trump has been seated at an ornately designed couch, upholstered in pale fabric laced with gold, beneath a chandelier hanging from the ceiling, a scene resembling a mansion in “Sunset Boulevard” or “Citizen Kane,” two of Mr. Trump’s favorite movies. At night, the couches are moved out and tables are added to accommodate the evening cocktail crowd, among whom Mr. Trump moves from one table to the next, the most powerful greeter in the world. At the annual New Year’s Eve party on Saturday night, a   white menu included “Mr. Trump’s wedge salad,” a wild mushroom and Swiss chard ravioli and a “breakfast buffet. ” Those in attendance drifted in under a    striped awning, the men dressed in tuxedos, the women in ball gowns, many with their hair swept high. Guests stepped onto a red carpet as they entered the club and wandered over to a poolside cocktail party. Mr. Trump later delivered remarks, according to a guest, who said he thanked his family and the club members for their support over the years. Howie Carr, a conservative radio host who was supportive of Mr. Trump, roamed the crowd, with Mr. Carr posting on Twitter that his daughter asked Mr. Trump if she could be an intern in the White House. Mr. Trump’s two adult sons, Eric and Donald Jr. posed for photographs. Joe Scarborough and Mika Brzezinski from MSNBC’s “Morning Joe” were also there. Like most aspects of Mr. Trump’s business interests, the party generated controversy as tickets to it were made available to club members and guests for a little more than $500. Mr. Trump’s aides rejected the questions. Mr. Trump returned to New York on Sunday night. But the club will remain an escape for him. His contentious Twitter posts belie his relative calm when he is at    compared with when he is isolated inside Trump Tower. Mr. Trump’s combative public persona  —   often on display during his campaign  —   mostly dissolves behind the   walls of his castle. “   is an environment he can control,” said the historian Douglas Brinkley, who last week attended a    lunch with a longtime club member, Chris Ruddy, the chief executive of Newsmax Media. “I watched him hold court  —   he was so comfortable in his own skin, and so relaxed. ” Mr. Ruddy has hosted Mr. Carr and Laura Ingraham, another conservative radio host who supported Mr. Trump, at the club and has introduced Mr. Trump to a range of news media figures, politicians and donors. He described the   as “seeking the   Donald Trump: totally at ease, very positive, very gregarious. ” Mr. Trump appears to feed off contact with the people at the club. Over the Thanksgiving holiday, he queried dinner guests about whether he should appoint Rudolph W. Giuliani or Mitt Romney as his secretary of state (he ended up picking neither). During this trip, he has heaped praise on his ultimate choice for the job, Rex W. Tillerson, the head of Exxon Mobil. (Mr. Trump has called him “Mr. Exxon. ”) He talks about the work he has done to find a solution for the problems at the Department of Veteran Affairs, which included a recent meeting with a number of executives at   . Mr. Trump told a New York Times reporter that he intended to make Brian Burns, the businessman son of a confidante of Joseph P. Kennedy, the ambassador to Ireland. Isaac Perlmutter, the reclusive head of Marvel Entertainment, is a    member who helped Mr. Trump put that meeting together. Mr. Trump has also held   with Robert K. Kraft, the owner of the New England Patriots and a club member, and hosted prominent figures like Carlos Slim, the billionaire who is Mexico’s richest man. Mr. Trump his wife, Melania and their    son, Barron, inhabit a residential area of the club. His adult children and their families usually stay in nearby cabanas on the property. Mr. Trump frequently dines on the patio, a central point of action, where at night a singer plays with a small band, sometimes belting out requests from Mr. Trump and other guests. (“My Way,” a song popularized by Frank Sinatra, was one recent choice.) A violinist sometimes moves among tables, plucking tunes like the theme from “Fiddler on the Roof. ” Mr. Trump has given the cadre of White House reporters who now cover him some access to the club, but grudgingly so  —   he once again eluded the reporters covering him on Saturday, slipping away without any warning to play golf at another of his clubs nearby in Jupiter. And outside the confines of    old grievances flare up. On the golf course, Mr. Trump spotted Harry Hurt, a biographer who wrote critically of Mr. Trump years ago, preparing to play a round with David H. Koch, a billionaire conservative donor. Mr. Trump ordered club officials to remove Mr. Hurt from the property, according to a Facebook post by Mr. Hurt. Over the years, Mr. Trump has also been perpetually at loggerheads with Palm Beach officials. He has filed lawsuits attempting to keep noisy planes from flying over    and there have been disputes over the height of his oversize flagpole on the grounds. With its owner’s coming new job, the club has had some changes. Guests now go through an elaborate security screen to gain access to the main entrance. Secret Service agents are now sprinkled throughout the property, at night blending into the shrubbery along the grounds. Robin Bernstein, a club member for nearly 25 years, said that some club members might express frustration, but that most thought it was important “that we keep Donald and his family safe. ” Attendees seem to see a benefit so far in having the   around, and expect it will continue. “The loser in this game is Camp David,” said Mr. Brinkley, referring to the longtime presidential retreat in Maryland. “Once you’re at    and it’s so opulent and   the idea of suddenly inserting yourself into Camp David’s Maryland mountains environment seems unlikely. ”', CombinedTokens=['lago', 'futur', 'winter', 'white', 'hous', 'home', 'calmer', 'trump', 'york', 'time', 'west', 'palm', 'beach', 'donald', 'trump', 'rang', 'year', 'weekend', 'opul', 'join', 'actor', 'sylvest', 'stallon', 'gossip', 'page', 'fixtur', 'fabio', 'crowd', 'wealthi', 'develop', 'revel', 'sway', 'palm', 'tree', 'trump', 'resort', 'palm', 'beach', 'presid', 'georg', 'bush', 'ranch', 'crawford', 'father', 'compound', 'kennebunkport', 'presid', 'obama', 'taken', 'frequent', 'vacat', 'hawaii', 'stay', 'privat', 'home', 'trump', 'privat', 'club', 'florida', 'spent', 'past', 'week', 'away', 'home', 'york', 'citi', 'like', 'eclips', 'presid', 'winter', 'white', 'hous', 'alway', 'intent', 'marjori', 'meriweath', 'post', 'cereal', 'heiress', 'properti', 'origin', 'owner', 'left', 'feder', 'govern', 'die', 'hope', 'would', 'serv', 'home', 'presid', 'govern', 'interest', 'plan', 'trump', 'later', 'bought', 'properti', 'less', 'million', 'turn', 'club', 'membership', 'cost', 'figur', 'trump', 'arriv', 'greet', 'sneer', 'palm', 'beach', 'elit', 'open', 'membership', 'jew', 'exclud', 'establish', 'also', 'first', 'club', 'owner', 'island', 'admit', 'openli', 'coupl', 'sinc', 'trump', 'victori', 'novemb', 'stuf', 'guest', 'attract', 'amen', 'uniqu', 'club', 'chanc', 'shoulder', 'next', 'presid', 'like', 'go', 'disneyland', 'know', 'mickey', 'mous', 'long', 'said', 'jeff', 'green', 'develop', 'unsuccess', 'democrat', 'candid', 'senat', 'florida', 'member', 'hillari', 'clinton', 'support', 'instead', 'host', 'major', 'corpor', 'execut', 'potenti', 'cabinet', 'secretari', 'interview', 'insid', 'boxi', 'transit', 'offic', 'trump', 'tower', 'midtown', 'manhattan', 'trump', 'seat', 'ornat', 'design', 'couch', 'upholst', 'pale', 'fabric', 'lace', 'gold', 'beneath', 'chandeli', 'hang', 'ceil', 'scene', 'resembl', 'mansion', 'sunset', 'boulevard', 'citizen', 'kane', 'trump', 'favorit', 'movi', 'night', 'couch', 'move', 'tabl', 'ad', 'accommod', 'even', 'cocktail', 'crowd', 'among', 'trump', 'move', 'tabl', 'next', 'power', 'greeter', 'world', 'annual', 'year', 'parti', 'saturday', 'night', 'white', 'menu', 'includ', 'trump', 'wedg', 'salad', 'wild', 'mushroom', 'swiss', 'chard', 'ravioli', 'breakfast', 'buffet', 'attend', 'drift', 'stripe', 'awn', 'dress', 'tuxedo', 'women', 'ball', 'gown', 'mani', 'hair', 'swept', 'high', 'guest', 'step', 'onto', 'carpet', 'enter', 'club', 'wander', 'poolsid', 'cocktail', 'parti', 'trump', 'later', 'deliv', 'remark', 'accord', 'guest', 'said', 'thank', 'famili', 'club', 'member', 'support', 'year', 'howi', 'carr', 'conserv', 'radio', 'host', 'support', 'trump', 'roam', 'crowd', 'carr', 'post', 'twitter', 'daughter', 'ask', 'trump', 'could', 'intern', 'white', 'hous', 'trump', 'adult', 'son', 'eric', 'donald', 'pose', 'photograph', 'scarborough', 'mika', 'brzezinski', 'msnbc', 'morn', 'also', 'like', 'aspect', 'trump', 'busi', 'interest', 'parti', 'gener', 'controversi', 'ticket', 'made', 'avail', 'club', 'member', 'guest', 'littl', 'trump', 'aid', 'reject', 'question', 'trump', 'return', 'york', 'sunday', 'night', 'club', 'remain', 'escap', 'contenti', 'twitter', 'post', 'beli', 'rel', 'calm', 'compar', 'isol', 'insid', 'trump', 'tower', 'trump', 'comb', 'public', 'persona', 'often', 'display', 'campaign', 'mostli', 'dissolv', 'behind', 'wall', 'castl', 'environ', 'control', 'said', 'historian', 'dougla', 'brinkley', 'last', 'week', 'attend', 'lunch', 'longtim', 'club', 'member', 'chri', 'ruddi', 'chief', 'execut', 'newsmax', 'media', 'watch', 'hold', 'court', 'comfort', 'skin', 'relax', 'ruddi', 'host', 'carr', 'laura', 'ingraham', 'anoth', 'conserv', 'radio', 'host', 'support', 'trump', 'club', 'introduc', 'trump', 'rang', 'news', 'media', 'figur', 'politician', 'donor', 'describ', 'seek', 'donald', 'trump', 'total', 'eas', 'posit', 'gregari', 'trump', 'appear', 'feed', 'contact', 'peopl', 'club', 'thanksgiv', 'holiday', 'queri', 'dinner', 'guest', 'whether', 'appoint', 'rudolph', 'giuliani', 'mitt', 'romney', 'secretari', 'state', 'end', 'pick', 'neither)', 'trip', 'heap', 'prais', 'ultim', 'choic', 'tillerson', 'head', 'exxon', 'mobil', 'trump', 'call', 'exxon', 'talk', 'work', 'done', 'find', 'solut', 'problem', 'depart', 'veteran', 'affair', 'includ', 'recent', 'meet', 'number', 'execut', 'trump', 'told', 'york', 'time', 'report', 'intend', 'make', 'brian', 'burn', 'businessman', 'confidant', 'joseph', 'kennedi', 'ambassador', 'ireland', 'isaac', 'perlmutt', 'reclus', 'head', 'marvel', 'entertain', 'member', 'help', 'trump', 'meet', 'togeth', 'trump', 'also', 'held', 'robert', 'kraft', 'owner', 'england', 'patriot', 'club', 'member', 'host', 'promin', 'figur', 'like', 'carlo', 'slim', 'billionair', 'mexico', 'richest', 'trump', 'wife', 'melania', 'barron', 'inhabit', 'residenti', 'area', 'club', 'adult', 'children', 'famili', 'usual', 'stay', 'nearbi', 'cabana', 'properti', 'trump', 'frequent', 'dine', 'patio', 'central', 'point', 'action', 'night', 'singer', 'play', 'small', 'band', 'sometim', 'belt', 'request', 'trump', 'guest', 'song', 'popular', 'frank', 'sinatra', 'recent', 'choic', 'violinist', 'sometim', 'move', 'among', 'tabl', 'pluck', 'tune', 'like', 'theme', 'fiddler', 'roof', 'trump', 'given', 'cadr', 'white', 'hous', 'report', 'cover', 'access', 'club', 'grudgingli', 'elud', 'report', 'cover', 'saturday', 'slip', 'away', 'without', 'warn', 'play', 'golf', 'anoth', 'club', 'nearbi', 'jupit', 'outsid', 'confin', 'grievanc', 'flare', 'golf', 'cours', 'trump', 'spot', 'harri', 'hurt', 'biograph', 'wrote', 'critic', 'trump', 'year', 'prepar', 'play', 'round', 'david', 'koch', 'billionair', 'conserv', 'donor', 'trump', 'order', 'club', 'offici', 'remov', 'hurt', 'properti', 'accord', 'facebook', 'post', 'hurt', 'year', 'trump', 'also', 'perpetu', 'loggerhead', 'palm', 'beach', 'offici', 'file', 'lawsuit', 'attempt', 'keep', 'noisi', 'plane', 'fli', 'disput', 'height', 'overs', 'flagpol', 'ground', 'owner', 'come', 'club', 'chang', 'guest', 'elabor', 'secur', 'screen', 'gain', 'access', 'main', 'entranc', 'secret', 'servic', 'agent', 'sprinkl', 'throughout', 'properti', 'night', 'blend', 'shrubberi', 'along', 'ground', 'robin', 'bernstein', 'club', 'member', 'nearli', 'year', 'said', 'club', 'member', 'might', 'express', 'frustrat', 'thought', 'import', 'keep', 'donald', 'famili', 'safe', 'attende', 'seem', 'benefit', 'around', 'expect', 'continu', 'loser', 'game', 'camp', 'david', 'said', 'brinkley', 'refer', 'longtim', 'presidenti', 'retreat', 'maryland', 'opul', 'idea', 'suddenli', 'insert', 'camp', 'david', 'maryland', 'mountain', 'environ', 'seem', 'unlik'], rawFeatures=SparseVector(5000, {0: 5.0, 1: 37.0, 2: 1.0, 3: 2.0, 4: 1.0, 5: 1.0, 6: 5.0, 7: 6.0, 8: 5.0, 10: 3.0, 11: 4.0, 12: 1.0, 13: 1.0, 16: 1.0, 17: 4.0, 18: 1.0, 19: 1.0, 21: 2.0, 22: 1.0, 23: 1.0, 24: 1.0, 25: 1.0, 29: 4.0, 30: 1.0, 31: 2.0, 32: 1.0, 34: 4.0, 35: 1.0, 36: 4.0, 37: 2.0, 40: 1.0, 43: 1.0, 46: 2.0, 50: 1.0, 51: 2.0, 53: 1.0, 55: 1.0, 56: 2.0, 60: 1.0, 61: 1.0, 62: 1.0, 63: 5.0, 64: 3.0, 65: 1.0, 66: 2.0, 67: 1.0, 70: 1.0, 71: 1.0, 75: 1.0, 76: 1.0, 79: 1.0, 81: 1.0, 82: 1.0, 83: 1.0, 85: 1.0, 86: 1.0, 87: 1.0, 88: 8.0, 92: 1.0, 95: 2.0, 98: 1.0, 99: 1.0, 100: 3.0, 102: 1.0, 103: 1.0, 105: 4.0, 108: 2.0, 110: 1.0, 111: 1.0, 125: 1.0, 126: 1.0, 127: 1.0, 128: 3.0, 129: 1.0, 130: 1.0, 131: 4.0, 132: 3.0, 135: 1.0, 136: 1.0, 138: 1.0, 142: 1.0, 144: 3.0, 146: 1.0, 147: 1.0, 152: 2.0, 154: 1.0, 159: 1.0, 160: 1.0, 162: 5.0, 166: 1.0, 167: 1.0, 169: 1.0, 171: 1.0, 178: 2.0, 181: 3.0, 187: 1.0, 189: 1.0, 192: 2.0, 194: 1.0, 201: 1.0, 204: 1.0, 208: 1.0, 211: 1.0, 215: 1.0, 219: 2.0, 221: 1.0, 222: 1.0, 223: 1.0, 224: 2.0, 230: 1.0, 231: 2.0, 234: 1.0, 235: 1.0, 236: 1.0, 248: 1.0, 255: 1.0, 257: 2.0, 266: 1.0, 268: 2.0, 269: 1.0, 278: 2.0, 281: 1.0, 285: 1.0, 288: 1.0, 299: 1.0, 300: 5.0, 304: 1.0, 305: 1.0, 313: 1.0, 314: 2.0, 320: 1.0, 321: 1.0, 325: 1.0, 356: 1.0, 367: 1.0, 385: 2.0, 394: 2.0, 396: 1.0, 400: 1.0, 402: 1.0, 405: 1.0, 407: 1.0, 411: 1.0, 413: 1.0, 414: 1.0, 430: 1.0, 433: 1.0, 434: 1.0, 437: 1.0, 438: 1.0, 440: 2.0, 443: 1.0, 451: 1.0, 452: 1.0, 455: 1.0, 457: 1.0, 459: 1.0, 478: 1.0, 481: 1.0, 484: 1.0, 486: 1.0, 493: 1.0, 494: 1.0, 499: 1.0, 503: 1.0, 505: 2.0, 510: 1.0, 526: 1.0, 529: 2.0, 530: 1.0, 543: 1.0, 555: 1.0, 564: 2.0, 565: 2.0, 569: 1.0, 572: 1.0, 578: 3.0, 584: 1.0, 585: 2.0, 595: 1.0, 599: 1.0, 601: 1.0, 614: 1.0, 615: 1.0, 626: 3.0, 627: 1.0, 629: 1.0, 634: 1.0, 638: 1.0, 645: 1.0, 646: 2.0, 647: 2.0, 655: 1.0, 658: 3.0, 676: 1.0, 692: 1.0, 694: 1.0, 707: 1.0, 708: 1.0, 711: 1.0, 713: 2.0, 732: 2.0, 747: 1.0, 748: 1.0, 753: 1.0, 761: 1.0, 783: 1.0, 800: 1.0, 802: 1.0, 805: 1.0, 809: 1.0, 814: 1.0, 817: 1.0, 822: 1.0, 835: 1.0, 839: 1.0, 881: 1.0, 892: 2.0, 905: 1.0, 907: 1.0, 909: 1.0, 916: 1.0, 919: 4.0, 924: 1.0, 928: 1.0, 929: 1.0, 932: 1.0, 937: 1.0, 939: 1.0, 941: 1.0, 948: 1.0, 959: 1.0, 961: 1.0, 969: 1.0, 974: 1.0, 991: 1.0, 1008: 1.0, 1014: 1.0, 1025: 1.0, 1027: 19.0, 1028: 1.0, 1044: 1.0, 1048: 1.0, 1073: 1.0, 1085: 2.0, 1089: 1.0, 1091: 1.0, 1093: 1.0, 1096: 1.0, 1109: 1.0, 1117: 1.0, 1119: 3.0, 1128: 1.0, 1132: 1.0, 1155: 1.0, 1177: 1.0, 1219: 1.0, 1240: 1.0, 1247: 1.0, 1264: 2.0, 1267: 1.0, 1271: 2.0, 1278: 1.0, 1281: 5.0, 1288: 1.0, 1300: 1.0, 1368: 1.0, 1378: 1.0, 1387: 1.0, 1388: 2.0, 1392: 7.0, 1394: 2.0, 1398: 1.0, 1412: 1.0, 1417: 1.0, 1420: 1.0, 1425: 3.0, 1432: 1.0, 1457: 1.0, 1461: 1.0, 1477: 4.0, 1478: 1.0, 1491: 2.0, 1507: 1.0, 1532: 1.0, 1565: 1.0, 1578: 1.0, 1580: 1.0, 1584: 1.0, 1588: 2.0, 1590: 1.0, 1594: 1.0, 1602: 1.0, 1604: 2.0, 1631: 1.0, 1637: 1.0, 1647: 1.0, 1669: 1.0, 1674: 1.0, 1678: 2.0, 1680: 1.0, 1686: 1.0, 1699: 2.0, 1709: 1.0, 1728: 1.0, 1817: 1.0, 1843: 2.0, 1876: 1.0, 1942: 1.0, 1954: 1.0, 2006: 1.0, 2016: 1.0, 2069: 1.0, 2089: 1.0, 2105: 1.0, 2127: 1.0, 2142: 1.0, 2191: 2.0, 2195: 1.0, 2258: 1.0, 2260: 1.0, 2285: 1.0, 2324: 1.0, 2325: 1.0, 2339: 1.0, 2340: 1.0, 2341: 1.0, 2366: 1.0, 2374: 1.0, 2398: 1.0, 2442: 1.0, 2507: 1.0, 2510: 1.0, 2513: 2.0, 2567: 5.0, 2587: 2.0, 2635: 1.0, 2664: 1.0, 2698: 1.0, 2701: 1.0, 2730: 1.0, 2765: 1.0, 2789: 1.0, 2800: 1.0, 2855: 1.0, 2880: 1.0, 2906: 1.0, 2915: 1.0, 2919: 1.0, 2931: 1.0, 3054: 1.0, 3055: 1.0, 3086: 1.0, 3093: 1.0, 3125: 1.0, 3130: 1.0, 3147: 1.0, 3179: 1.0, 3199: 1.0, 3301: 1.0, 3308: 1.0, 3325: 1.0, 3404: 1.0, 3569: 1.0, 3578: 1.0, 3688: 1.0, 3721: 1.0, 3725: 1.0, 3745: 1.0, 3751: 1.0, 3778: 1.0, 3787: 1.0, 3870: 1.0, 3892: 1.0, 4059: 1.0, 4105: 2.0, 4151: 1.0, 4176: 1.0, 4197: 1.0, 4226: 1.0, 4272: 1.0, 4362: 1.0, 4386: 1.0, 4461: 1.0, 4534: 1.0, 4539: 1.0, 4581: 1.0, 4617: 1.0, 4684: 1.0, 4712: 1.0, 4802: 2.0, 4869: 1.0, 4895: 2.0})),\n",
       " Row(id_news=17296.0, title='How to form healthy habits in your 20s - The New York Times', publication='New York Times', content='This article is part of a series aimed at helping you navigate life’s opportunities and challenges. What else should we write about? Contact us: smarterliving@nytimes. com. When you woke up this morning, what did you do first? Did you hop in the shower, check your email or grab a doughnut? What did you say to your roommates on the way out the door? Salad or hamburger for lunch? When you got home, did you put on your sneakers and go for a run, or eat dinner in front of the television? Most of the choices we make each day may feel like the products of   decision making, but they’re not. They’re habits. And though each habit means relatively little on its own, over time, the meals we eat, how we spend our evenings, and how often we exercise have enormous impacts. This is particularly true in our 20s, when so many of our habits are still up for grabs. The patterns you establish right now will impact your health, productivity, financial security and happiness for decades. How much money you make, how much time you spend with your friends and family, how well your body functions years from now  —   all of these, in many ways, are products of the habits you are building today. (Related: The 8 health habits experts say you need in your 20s) And in the last decade, our understanding of the neurology of habit formation has been transformed. We’ve learned how habits form  —   and why they are so hard to break. We now know how to create good habits and change bad ones like never before. At the core of every habit is a neurological loop with three parts: A cue, a routine and a reward. To understand how to create habits  —   such as exercise habits  —   you must learn to establish the right cues and rewards. In 2002, researchers at New Mexico State University studied 266 individuals, most of whom worked out at least three times a week. They found that many of them had started running or lifting weights almost on a whim, or because they suddenly had free time or wanted to deal with unexpected stresses in their lives. However, the reason they continued exercising  —   why it became a habit  —   was because of a specific cue and a specific reward. If you want to start running each morning, it’s essential that you choose a simple cue (like always lacing up your sneakers before breakfast or always going for a run at the same time of day) and a clear reward (like a sense of accomplishment from recording your miles, or the endorphin rush you get from a jog). But countless studies have shown that, at first, the rewards inherent in exercise aren’t enough. So to teach your brain to associate exercise with a reward, you need to give yourself something you really enjoy  —   like a small piece of chocolate  —   after your workout. This is counterintuitive, because most people start exercising to lose weight. But the goal here is to train your brain to associate a certain cue (“It’s 5 o’clock”) with a routine (“Three miles down ”). Eventually, your brain will start expecting the reward inherent in exercise (“It’s 5 o’clock. Three miles down ”) and you won’t need the chocolate anymore. In fact, you won’t even want it. But until your neurology learns to enjoy those endorphins and the other rewards inherent in exercise, you need to   the process. And then, over time, it will become automatic to lace up your jogging shoes each morning. You won’t want the chocolate anymore. You’ll just crave the endorphins. The cue, in addition to triggering a routine, will start triggering a craving for the inherent rewards to come. Want more? You might also like: • The scientific   workout • No time to workout? Try exercising on the job • How to pick a health insurance plan', CombinedTokens=['form', 'healthi', 'habit', 'york', 'time', 'articl', 'part', 'seri', 'aim', 'help', 'navig', 'life', 'opportun', 'challeng', 'els', 'write', 'contact', 'smarterliv', 'nytim', 'woke', 'morn', 'first', 'shower', 'check', 'email', 'grab', 'doughnut', 'roommat', 'door', 'salad', 'hamburg', 'lunch', 'home', 'sneaker', 'dinner', 'front', 'televis', 'choic', 'make', 'feel', 'like', 'product', 'decis', 'make', 'habit', 'though', 'habit', 'mean', 'rel', 'littl', 'time', 'meal', 'spend', 'even', 'often', 'exercis', 'enorm', 'impact', 'particularli', 'true', 'mani', 'habit', 'still', 'grab', 'pattern', 'establish', 'right', 'impact', 'health', 'product', 'financi', 'secur', 'happi', 'decad', 'much', 'money', 'make', 'much', 'time', 'spend', 'friend', 'famili', 'well', 'bodi', 'function', 'year', 'mani', 'way', 'product', 'habit', 'build', 'today', '(relat', 'health', 'habit', 'expert', 'need', 'last', 'decad', 'understand', 'neurolog', 'habit', 'format', 'transform', 'learn', 'habit', 'form', 'hard', 'break', 'know', 'creat', 'good', 'habit', 'chang', 'one', 'like', 'never', 'core', 'everi', 'habit', 'neurolog', 'loop', 'three', 'part', 'routin', 'reward', 'understand', 'creat', 'habit', 'exercis', 'habit', 'must', 'learn', 'establish', 'right', 'cue', 'reward', 'research', 'mexico', 'state', 'univers', 'studi', 'individu', 'work', 'least', 'three', 'time', 'week', 'found', 'mani', 'start', 'run', 'lift', 'weight', 'almost', 'whim', 'suddenli', 'free', 'time', 'want', 'deal', 'unexpect', 'stress', 'live', 'howev', 'reason', 'continu', 'exercis', 'becam', 'habit', 'specif', 'specif', 'reward', 'want', 'start', 'run', 'morn', 'essenti', 'choos', 'simpl', '(like', 'alway', 'lace', 'sneaker', 'breakfast', 'alway', 'go', 'time', 'day)', 'clear', 'reward', '(like', 'sens', 'accomplish', 'record', 'mile', 'endorphin', 'rush', 'jog)', 'countless', 'studi', 'shown', 'first', 'reward', 'inher', 'exercis', 'enough', 'teach', 'brain', 'associ', 'exercis', 'reward', 'need', 'give', 'someth', 'realli', 'enjoy', 'like', 'small', 'piec', 'chocol', 'workout', 'counterintuit', 'peopl', 'start', 'exercis', 'lose', 'weight', 'goal', 'train', 'brain', 'associ', 'certain', 'clock', 'routin', 'three', 'mile', 'eventu', 'brain', 'start', 'expect', 'reward', 'inher', 'exercis', 'clock', 'three', 'mile', 'need', 'chocol', 'anymor', 'fact', 'even', 'want', 'neurolog', 'learn', 'enjoy', 'endorphin', 'reward', 'inher', 'exercis', 'need', 'process', 'time', 'becom', 'automat', 'lace', 'jog', 'shoe', 'morn', 'want', 'chocol', 'anymor', 'crave', 'endorphin', 'addit', 'trigger', 'routin', 'start', 'trigger', 'crave', 'inher', 'reward', 'come', 'want', 'might', 'also', 'like', 'scientif', 'workout', 'time', 'workout', 'exercis', 'pick', 'health', 'insur', 'plan'], rawFeatures=SparseVector(5000, {2: 1.0, 3: 8.0, 5: 1.0, 7: 1.0, 8: 4.0, 11: 1.0, 16: 3.0, 17: 1.0, 18: 1.0, 22: 2.0, 24: 1.0, 25: 2.0, 32: 3.0, 33: 5.0, 47: 2.0, 50: 1.0, 51: 1.0, 53: 1.0, 61: 1.0, 67: 1.0, 68: 1.0, 70: 1.0, 73: 4.0, 81: 1.0, 83: 1.0, 86: 1.0, 91: 2.0, 93: 1.0, 94: 2.0, 96: 1.0, 100: 1.0, 119: 1.0, 122: 4.0, 124: 1.0, 131: 1.0, 134: 1.0, 143: 5.0, 149: 1.0, 153: 1.0, 156: 3.0, 158: 1.0, 163: 1.0, 168: 1.0, 174: 1.0, 179: 1.0, 184: 1.0, 197: 1.0, 223: 1.0, 227: 1.0, 233: 1.0, 235: 1.0, 240: 1.0, 242: 1.0, 244: 1.0, 258: 1.0, 261: 1.0, 264: 1.0, 269: 1.0, 272: 1.0, 282: 2.0, 291: 1.0, 298: 1.0, 308: 1.0, 311: 1.0, 313: 3.0, 335: 1.0, 349: 1.0, 350: 2.0, 353: 2.0, 363: 1.0, 367: 1.0, 384: 1.0, 395: 1.0, 413: 2.0, 415: 1.0, 420: 2.0, 425: 1.0, 445: 3.0, 450: 1.0, 460: 1.0, 462: 1.0, 473: 2.0, 476: 1.0, 478: 1.0, 480: 2.0, 483: 1.0, 485: 1.0, 494: 2.0, 507: 1.0, 521: 1.0, 526: 1.0, 531: 2.0, 545: 1.0, 547: 1.0, 576: 1.0, 624: 1.0, 637: 2.0, 641: 1.0, 648: 3.0, 674: 1.0, 678: 1.0, 679: 1.0, 708: 1.0, 713: 1.0, 714: 1.0, 727: 1.0, 754: 1.0, 768: 2.0, 778: 1.0, 812: 1.0, 832: 1.0, 833: 1.0, 863: 1.0, 880: 1.0, 885: 1.0, 912: 1.0, 1011: 2.0, 1014: 1.0, 1024: 1.0, 1035: 3.0, 1044: 1.0, 1131: 1.0, 1164: 1.0, 1200: 1.0, 1248: 1.0, 1308: 1.0, 1317: 1.0, 1410: 2.0, 1422: 9.0, 1438: 1.0, 1614: 1.0, 1629: 1.0, 1631: 1.0, 1635: 1.0, 1670: 3.0, 1672: 1.0, 1689: 1.0, 1770: 1.0, 1771: 3.0, 2002: 1.0, 2058: 2.0, 2100: 1.0, 2114: 2.0, 2125: 1.0, 2142: 1.0, 2155: 1.0, 2201: 1.0, 2204: 1.0, 2233: 2.0, 2280: 1.0, 2401: 1.0, 2414: 2.0, 2553: 9.0, 2774: 2.0, 2855: 1.0, 2956: 1.0, 2957: 1.0, 2982: 1.0, 3128: 13.0, 3169: 1.0, 3216: 1.0, 3639: 1.0, 3736: 1.0, 3870: 1.0, 3921: 1.0, 4019: 4.0, 4296: 3.0, 4374: 1.0})),\n",
       " Row(id_news=17302.0, title='Suicide Bombing in Baghdad Kills at Least 36 - The New York Times', publication='New York Times', content='BAGHDAD  —   A suicide bomber detonated a pickup truck loaded with explosives on Monday in a busy Baghdad market, killing at least 36 people hours after President François Hollande of France arrived in the Iraqi capital. The Islamic State later claimed responsibility for the attack. The bomb went off in a produce market that was packed with day laborers, a police officer said, adding that another 52 people were wounded. During a news conference with Mr. Hollande, Haider   Iraq’s prime minister, said the suicide bomber had pretended to be a man seeking to hire day laborers. Once the workers gathered around, he detonated the vehicle. The Islamic State, also known as ISIS or ISIL, claimed the attack in a statement circulated on a website that is often used by the group. It was the third such attack in three days in or near Baghdad, underscoring the lingering threat posed by the extremist group despite a string of setbacks for it elsewhere in the country over the past year, including in and around the northern city of Mosul. The attack took place in Sadr City, a vast Shiite district in eastern Baghdad that has been repeatedly targeted by Sunni extremists since the 2003   invasion. Militiamen loyal to the Shiite cleric Moktada   were seen evacuating bodies in their trucks before ambulances arrived. Bodies were scattered across the bloody pavement alongside fruit, vegetables and laborers’ shovels and axes. A minibus filled with dead passengers was on fire. Asaad Hashim, 28, an owner of a nearby cellphone store, described how the laborers had pushed and shoved around the bomber’s vehicle, trying to get hired. “Then a big boom came, sending them up into the air,” said Mr. Hashim, who suffered shrapnel wounds to his right hand. He blamed “the most ineffective security forces in the world” for failing to prevent the attack. An angry crowd cursed the government, even after a representative of Mr. Sadr tried to calm them. Late last month, the Iraqi authorities started removing some of the security checkpoints in Baghdad in a bid to ease traffic for the capital’s six million residents. “We have no idea who will kill at any moment and who’s supposed to protect us,” said Ali Abbas, a    father of four who was hurled over his vegetable stand by the blast. “If the securities forces can’t protect us, then allow us to do the job. ” Several smaller bombings elsewhere in the city on Monday killed at least 20 civilians and wounded at least 70, according to medics and police officials. All officials spoke on the condition of anonymity because they were not authorized to speak to reporters. The United States State Department condemned the attacks. Separately, the American military announced on Monday the death of a coalition service member in Iraq in a “  incident,” without providing further details. Mr. Hollande met with Mr. Abadi and President Fuad Masum, and later traveled to the   northern Kurdish region to meet with French troops and local officials. He pledged to help displaced Iraqis return to Mosul, where Iraqi forces are waging a large offensive against the Islamic State. France is part of the   coalition formed in 2014 to fight the Islamic State after the extremist group seized large areas in Iraq and neighboring Syria. France has suffered multiple attacks claimed by the extremist group.', CombinedTokens=['suicid', 'bomb', 'baghdad', 'kill', 'least', 'york', 'time', 'baghdad', 'suicid', 'bomber', 'deton', 'pickup', 'truck', 'load', 'explos', 'monday', 'busi', 'baghdad', 'market', 'kill', 'least', 'peopl', 'hour', 'presid', 'fran', 'holland', 'franc', 'arriv', 'iraqi', 'capit', 'islam', 'state', 'later', 'claim', 'respons', 'attack', 'bomb', 'went', 'produc', 'market', 'pack', 'labor', 'polic', 'offic', 'said', 'ad', 'anoth', 'peopl', 'wound', 'news', 'confer', 'holland', 'haider', 'iraq', 'prime', 'minist', 'said', 'suicid', 'bomber', 'pretend', 'seek', 'hire', 'labor', 'worker', 'gather', 'around', 'deton', 'vehicl', 'islam', 'state', 'also', 'known', 'isi', 'isil', 'claim', 'attack', 'statement', 'circul', 'websit', 'often', 'use', 'group', 'third', 'attack', 'three', 'day', 'near', 'baghdad', 'underscor', 'linger', 'threat', 'pose', 'extremist', 'group', 'despit', 'string', 'setback', 'elsewher', 'countri', 'past', 'year', 'includ', 'around', 'northern', 'citi', 'mosul', 'attack', 'took', 'place', 'sadr', 'citi', 'vast', 'shiit', 'district', 'eastern', 'baghdad', 'repeatedli', 'target', 'sunni', 'extremist', 'sinc', 'invas', 'militiamen', 'loyal', 'shiit', 'cleric', 'moktada', 'seen', 'evacu', 'bodi', 'truck', 'ambul', 'arriv', 'bodi', 'scatter', 'across', 'bloodi', 'pavement', 'alongsid', 'fruit', 'veget', 'labor', 'shovel', 'axe', 'minibu', 'fill', 'dead', 'passeng', 'fire', 'asaad', 'hashim', 'owner', 'nearbi', 'cellphon', 'store', 'describ', 'labor', 'push', 'shove', 'around', 'bomber', 'vehicl', 'tri', 'hire', 'boom', 'came', 'send', 'said', 'hashim', 'suffer', 'shrapnel', 'wound', 'right', 'hand', 'blame', 'ineffect', 'secur', 'forc', 'world', 'fail', 'prevent', 'attack', 'angri', 'crowd', 'curs', 'govern', 'even', 'repres', 'sadr', 'tri', 'calm', 'late', 'last', 'month', 'iraqi', 'author', 'start', 'remov', 'secur', 'checkpoint', 'baghdad', 'eas', 'traffic', 'capit', 'million', 'resid', 'idea', 'kill', 'moment', 'suppos', 'protect', 'said', 'abba', 'father', 'four', 'hurl', 'veget', 'stand', 'blast', 'secur', 'forc', 'protect', 'allow', 'sever', 'smaller', 'bomb', 'elsewher', 'citi', 'monday', 'kill', 'least', 'civilian', 'wound', 'least', 'accord', 'medic', 'polic', 'offici', 'offici', 'spoke', 'condit', 'anonym', 'author', 'speak', 'report', 'unit', 'state', 'state', 'depart', 'condemn', 'attack', 'separ', 'american', 'militari', 'announc', 'monday', 'death', 'coalit', 'servic', 'member', 'iraq', 'incid', 'without', 'provid', 'detail', 'holland', 'abadi', 'presid', 'fuad', 'masum', 'later', 'travel', 'northern', 'kurdish', 'region', 'meet', 'french', 'troop', 'local', 'offici', 'pledg', 'help', 'displac', 'iraqi', 'return', 'mosul', 'iraqi', 'forc', 'wage', 'larg', 'offens', 'islam', 'state', 'franc', 'part', 'coalit', 'form', 'fight', 'islam', 'state', 'extremist', 'group', 'seiz', 'larg', 'area', 'iraq', 'neighbor', 'syria', 'franc', 'suffer', 'multipl', 'attack', 'claim', 'extremist', 'group'], rawFeatures=SparseVector(5000, {0: 4.0, 2: 6.0, 3: 1.0, 5: 2.0, 6: 2.0, 7: 1.0, 10: 1.0, 11: 1.0, 13: 1.0, 14: 1.0, 17: 1.0, 18: 1.0, 20: 1.0, 25: 1.0, 27: 1.0, 31: 1.0, 37: 1.0, 40: 1.0, 42: 7.0, 45: 2.0, 46: 3.0, 47: 1.0, 49: 4.0, 56: 1.0, 60: 3.0, 65: 1.0, 69: 1.0, 70: 3.0, 71: 1.0, 75: 1.0, 81: 1.0, 84: 1.0, 85: 1.0, 88: 1.0, 91: 1.0, 101: 3.0, 106: 3.0, 107: 1.0, 108: 1.0, 111: 1.0, 115: 1.0, 116: 4.0, 117: 4.0, 122: 1.0, 123: 2.0, 130: 3.0, 143: 1.0, 148: 2.0, 150: 1.0, 152: 1.0, 154: 1.0, 170: 1.0, 173: 1.0, 183: 1.0, 187: 1.0, 188: 1.0, 190: 1.0, 205: 1.0, 209: 3.0, 213: 1.0, 219: 2.0, 221: 1.0, 225: 2.0, 226: 1.0, 243: 1.0, 251: 1.0, 259: 1.0, 261: 4.0, 262: 1.0, 266: 1.0, 280: 1.0, 289: 1.0, 295: 1.0, 296: 1.0, 299: 1.0, 306: 1.0, 307: 2.0, 309: 1.0, 318: 1.0, 319: 2.0, 320: 1.0, 321: 1.0, 338: 1.0, 344: 1.0, 345: 1.0, 351: 1.0, 364: 1.0, 367: 1.0, 382: 1.0, 388: 1.0, 403: 1.0, 409: 1.0, 411: 1.0, 418: 1.0, 419: 1.0, 436: 1.0, 471: 1.0, 509: 1.0, 513: 1.0, 514: 1.0, 520: 1.0, 530: 1.0, 541: 1.0, 543: 1.0, 553: 1.0, 572: 1.0, 576: 2.0, 584: 2.0, 605: 1.0, 606: 1.0, 610: 1.0, 622: 3.0, 626: 1.0, 637: 1.0, 666: 1.0, 671: 1.0, 672: 1.0, 722: 3.0, 723: 1.0, 726: 2.0, 731: 1.0, 733: 1.0, 744: 1.0, 749: 2.0, 759: 1.0, 772: 1.0, 781: 3.0, 807: 1.0, 831: 1.0, 856: 1.0, 890: 1.0, 919: 1.0, 943: 1.0, 946: 2.0, 949: 2.0, 985: 1.0, 1010: 1.0, 1031: 4.0, 1069: 1.0, 1080: 1.0, 1084: 3.0, 1114: 1.0, 1115: 1.0, 1136: 1.0, 1143: 1.0, 1157: 1.0, 1161: 1.0, 1235: 2.0, 1263: 1.0, 1313: 2.0, 1331: 1.0, 1378: 1.0, 1382: 3.0, 1408: 1.0, 1431: 1.0, 1441: 1.0, 1502: 2.0, 1534: 4.0, 1589: 1.0, 1604: 1.0, 1676: 1.0, 1745: 1.0, 1761: 1.0, 1809: 4.0, 1848: 1.0, 1861: 1.0, 1897: 1.0, 1937: 2.0, 2040: 2.0, 2072: 1.0, 2073: 1.0, 2224: 1.0, 2468: 3.0, 2629: 1.0, 2654: 1.0, 2664: 1.0, 2708: 1.0, 2709: 1.0, 2765: 1.0, 2794: 1.0, 2835: 1.0, 2857: 1.0, 3092: 2.0, 3146: 1.0, 3157: 1.0, 3158: 1.0, 3178: 1.0, 3336: 1.0, 3370: 3.0, 3445: 1.0, 3455: 1.0, 3636: 6.0, 3704: 1.0, 3828: 1.0, 3851: 2.0, 3853: 1.0, 3885: 1.0, 3904: 1.0, 3962: 1.0, 3987: 1.0, 3989: 1.0, 4250: 2.0, 4479: 1.0, 4554: 1.0})),\n",
       " Row(id_news=17303.0, title='Fecal Pollution Taints Water at Melbourne’s Beaches After Storm - The New York Times', publication='New York Times', content='SYDNEY, Australia  —   The annual beach pilgrimage during the height of summer in Melbourne, Australia’s   city, is threatened by an unsettling phenomenon: shores where the tides are tainted with excrement. The Environment Protection Authority in the state of Victoria said on Monday that heavy rains had caused fecal pollution to wash into Port Phillip from rivers, creeks and drains. It advised against swimming at 21 beaches because of poor water quality. “It’s poo in all its luxurious forms that is causing the problem,” said Anthony Boxshall, the agency’s manager of applied sciences, noting that the waste was coming from people, dogs, horses, cows, birds and other animals. Fecal pollution can cause serious health problems, including gastroenteritis. Mr. Boxshall said much of the waste had been washed down the   Yarra River that runs through Melbourne into Port Phillip, affecting the city’s bayside beaches the most. The agency, which takes regular water samples, rates beaches. A “good” rating means that the water is suitable for swimming. “Fair” means that rainfall has affected the water. “Poor” means people should avoid it. Residents said that the pollution had deterred them from indulging in a favorite summer ritual. “When the temperature gets above 86 Fahrenheit, Melbournians typically pack the family in the car with food and drink and spend the day at the beach,” said Sam Riley, who lives in the city. “I was going to take my two young boys to the beach myself over the summer, but now I’m concerned about whether the water is clean. ” Mr. Boxshall said any improvement in the beaches’ water quality was uncertain as long as the rain continued. The agency says it usually takes between 24 and 48 hours for the waters to clear after the rain stops.', CombinedTokens=['fecal', 'pollut', 'taint', 'water', 'melbourn', 'beach', 'storm', 'york', 'time', 'sydney', 'australia', 'annual', 'beach', 'pilgrimag', 'height', 'summer', 'melbourn', 'australia', 'citi', 'threaten', 'unsettl', 'phenomenon', 'shore', 'tide', 'taint', 'excrement', 'environ', 'protect', 'author', 'state', 'victoria', 'said', 'monday', 'heavi', 'rain', 'caus', 'fecal', 'pollut', 'wash', 'port', 'phillip', 'river', 'creek', 'drain', 'advis', 'swim', 'beach', 'poor', 'water', 'qualiti', 'luxuri', 'form', 'caus', 'problem', 'said', 'anthoni', 'boxshal', 'agenc', 'manag', 'appli', 'scienc', 'note', 'wast', 'come', 'peopl', 'dog', 'hors', 'cow', 'bird', 'anim', 'fecal', 'pollut', 'caus', 'seriou', 'health', 'problem', 'includ', 'gastroenter', 'boxshal', 'said', 'much', 'wast', 'wash', 'yarra', 'river', 'run', 'melbourn', 'port', 'phillip', 'affect', 'citi', 'baysid', 'beach', 'agenc', 'take', 'regular', 'water', 'sampl', 'rate', 'beach', 'good', 'rate', 'mean', 'water', 'suitabl', 'swim', 'fair', 'mean', 'rainfal', 'affect', 'water', 'poor', 'mean', 'peopl', 'avoid', 'resid', 'said', 'pollut', 'deter', 'indulg', 'favorit', 'summer', 'ritual', 'temperatur', 'get', 'fahrenheit', 'melbournian', 'typic', 'pack', 'famili', 'food', 'drink', 'spend', 'beach', 'said', 'riley', 'live', 'citi', 'go', 'take', 'young', 'boy', 'beach', 'summer', 'concern', 'whether', 'water', 'clean', 'boxshal', 'said', 'improv', 'beach', 'water', 'qualiti', 'uncertain', 'long', 'rain', 'continu', 'agenc', 'say', 'usual', 'take', 'hour', 'water', 'clear', 'rain', 'stop'], rawFeatures=SparseVector(5000, {0: 6.0, 2: 1.0, 3: 1.0, 5: 2.0, 17: 1.0, 37: 1.0, 41: 3.0, 50: 1.0, 52: 1.0, 53: 1.0, 60: 3.0, 68: 1.0, 86: 1.0, 94: 1.0, 100: 1.0, 123: 1.0, 124: 1.0, 156: 1.0, 159: 1.0, 169: 1.0, 185: 1.0, 209: 1.0, 225: 1.0, 227: 3.0, 234: 2.0, 239: 1.0, 256: 1.0, 267: 3.0, 291: 1.0, 297: 2.0, 327: 1.0, 337: 3.0, 338: 1.0, 348: 1.0, 379: 1.0, 420: 1.0, 472: 8.0, 489: 1.0, 520: 1.0, 531: 1.0, 637: 1.0, 681: 1.0, 787: 1.0, 796: 2.0, 841: 1.0, 872: 3.0, 874: 1.0, 884: 2.0, 934: 1.0, 1008: 1.0, 1089: 1.0, 1097: 1.0, 1127: 1.0, 1137: 1.0, 1156: 1.0, 1379: 1.0, 1476: 1.0, 1477: 8.0, 1491: 1.0, 1559: 1.0, 1623: 1.0, 1674: 1.0, 1700: 1.0, 1730: 2.0, 1781: 2.0, 1827: 1.0, 1885: 1.0, 2073: 1.0, 2101: 2.0, 2131: 3.0, 2144: 1.0, 2160: 1.0, 2215: 2.0, 2305: 2.0, 2524: 1.0, 2529: 1.0, 2705: 2.0, 2725: 4.0, 2870: 1.0, 2875: 1.0, 2906: 1.0, 3085: 1.0, 3244: 2.0, 3248: 1.0, 3466: 1.0, 3523: 1.0, 3895: 1.0, 3934: 1.0, 4141: 1.0, 4217: 2.0, 4218: 1.0, 4253: 1.0, 4992: 1.0}))]"
      ]
     },
     "execution_count": 17,
     "metadata": {},
     "output_type": "execute_result"
    }
   ],
   "source": [
    "featurizedData.take(10)"
   ]
  },
  {
   "cell_type": "code",
   "execution_count": 18,
   "metadata": {},
   "outputs": [
    {
     "name": "stdout",
     "output_type": "stream",
     "text": [
      "+-----+--------------------------------------------------------------------------------------+\n",
      "|topic|topic_desc                                                                            |\n",
      "+-----+--------------------------------------------------------------------------------------+\n",
      "|0    |[trump, parti, bannon, trade, presid, european, clinton, elect, germani, climat]      |\n",
      "|1    |[texa, cartel, mexican, zika, mexico, clinton, espn, sport, video, film]              |\n",
      "|2    |[militari, syria, syrian, forc, russia, islam, govern, iraq, attack, unit]            |\n",
      "|3    |[trump, health, republican, abort, clinton, ryan, voter, obamacar, vote, plan]        |\n",
      "|4    |[israel, islam, muslim, attack, isra, palestinian, terror, terrorist, iran, jerusalem]|\n",
      "|5    |[immigr, trump, comey, depart, obama, texa, investig, hous, illeg, administr]         |\n",
      "|6    |[castro, park, cuban, french, cuba, china, trump, facebook, marijuana, clinton]       |\n",
      "|7    |[polic, rubio, student, girl, campu, trump, milo, protest, school, offic]             |\n",
      "|8    |[compani, game, korea, north, player, test, vehicl, technolog, consum, product]       |\n",
      "|9    |[trump, bank, clinton, percent, kelli, rate, uber, republican, vote, campaign]        |\n",
      "+-----+--------------------------------------------------------------------------------------+\n",
      "\n"
     ]
    }
   ],
   "source": [
    "def map_termID_to_Word(termIndices):\n",
    "    words = []\n",
    "    for termID in termIndices:\n",
    "        words.append(vocab_broadcast.value[termID])\n",
    "    return words\n",
    "\n",
    "udf_map_termID_to_Word = udf(map_termID_to_Word , ArrayType(StringType()))\n",
    "ldatopics_mapped = ldatopics.withColumn(\"topic_desc\", udf_map_termID_to_Word(ldatopics.termIndices))\n",
    "ldatopics_mapped.select(ldatopics_mapped.topic, ldatopics_mapped.topic_desc).show(20,False)"
   ]
  },
  {
   "cell_type": "code",
   "execution_count": 19,
   "metadata": {},
   "outputs": [
    {
     "name": "stdout",
     "output_type": "stream",
     "text": [
      "+-------+--------------------+--------------+--------------------+--------------------+--------------------+--------------------+\n",
      "|id_news|               title|   publication|             content|      CombinedTokens|            features|   topicDistribution|\n",
      "+-------+--------------------+--------------+--------------------+--------------------+--------------------+--------------------+\n",
      "|17283.0|House Republicans...|New York Times|WASHINGTON  —   C...|[hous, republican...|(5000,[0,1,2,3,4,...|[0.02579954627314...|\n",
      "|17287.0|Kim Jong-un Says ...|New York Times|SEOUL, South Kore...|[jong, say, north...|(5000,[0,1,2,3,4,...|[0.01507972754767...|\n",
      "|17288.0|Sick With a Cold,...|New York Times|LONDON  —   Queen...|[sick, cold, quee...|(5000,[0,3,7,11,1...|[0.04690471816115...|\n",
      "|17289.0|Taiwan’s Presiden...|New York Times|BEIJING  —   Pres...|[taiwan, presid, ...|(5000,[0,1,2,3,4,...|[0.02324930874689...|\n",
      "|17292.0|Calling on Angels...|New York Times|Angels are everyw...|[call, angel, end...|(5000,[0,3,5,7,8,...|[0.01867067288017...|\n",
      "|17293.0|Weak Federal Powe...|New York Times|With Donald J. Tr...|[weak, feder, pow...|(5000,[0,1,2,3,4,...|[0.23877565687372...|\n",
      "|17295.0|Mar-a-Lago, the F...|New York Times|WEST PALM BEACH, ...|[lago, futur, win...|(5000,[0,1,2,3,4,...|[0.22378373978935...|\n",
      "|17296.0|How to form healt...|New York Times|This article is p...|[form, healthi, h...|(5000,[2,3,5,7,8,...|[0.03038324135979...|\n",
      "|17302.0|Suicide Bombing i...|New York Times|BAGHDAD  —   A su...|[suicid, bomb, ba...|(5000,[0,2,3,5,6,...|[0.01315333213796...|\n",
      "|17303.0|Fecal Pollution T...|New York Times|SYDNEY, Australia...|[fecal, pollut, t...|(5000,[0,2,3,5,17...|[0.11992705116337...|\n",
      "|17305.0|N.F.L. Playoffs: ...|New York Times|When the Green Ba...|[playoff, schedul...|(5000,[0,3,4,8,13...|[0.03495147543725...|\n",
      "|17306.0|Mariah Carey’s Ma...|New York Times|Mariah Carey suff...|[mariah, carey, m...|(5000,[0,3,4,5,7,...|[0.05732180516026...|\n",
      "|17307.0|Damaged by War, S...|New York Times|PARIS  —   When t...|[damag, syria, cu...|(5000,[0,2,3,4,5,...|[0.02403567699286...|\n",
      "|17311.0|Republicans Stone...|New York Times|WASHINGTON  —   I...|[republican, ston...|(5000,[0,1,2,3,4,...|[0.08148541381996...|\n",
      "|17312.0|Istanbul, Donald ...|New York Times|Good morning.  He...|[istanbul, donald...|(5000,[1,2,3,4,5,...|[0.05529596176880...|\n",
      "|17314.0|ISIS Claims Respo...|New York Times|ISTANBUL  —   The...|[isi, claim, resp...|(5000,[0,2,3,4,5,...|[0.01423167760756...|\n",
      "|17318.0|Tips for Your Pos...|New York Times|With the year win...|[tip, post, holid...|(5000,[0,3,4,7,8,...|[0.07733065556388...|\n",
      "|17319.0|Benjamin Netanyah...|New York Times|JERUSALEM  —   Is...|[benjamin, netany...|(5000,[0,1,2,3,4,...|[0.03518996867518...|\n",
      "|17321.0|France Lets Worke...|New York Times|PARIS  —   If the...|[franc, let, work...|(5000,[0,3,5,7,8,...|[0.04231893827890...|\n",
      "|17323.0|Airline Pilot, Be...|New York Times|OTTAWA  —   It wa...|[airlin, pilot, b...|(5000,[0,3,4,8,13...|[0.04093512039314...|\n",
      "+-------+--------------------+--------------+--------------------+--------------------+--------------------+--------------------+\n",
      "only showing top 20 rows\n",
      "\n"
     ]
    }
   ],
   "source": [
    "ldaResults = ldamodel.transform(rescaledData)\n",
    "\n",
    "ldaResults.select('id_news','title','publication','content','CombinedTokens','features','topicDistribution').show()"
   ]
  },
  {
   "cell_type": "code",
   "execution_count": 20,
   "metadata": {},
   "outputs": [
    {
     "name": "stdout",
     "output_type": "stream",
     "text": [
      "+-------+--------------------+\n",
      "|id_news|   topicDistribution|\n",
      "+-------+--------------------+\n",
      "|17283.0|[0.02579954627314...|\n",
      "|17287.0|[0.01507972754767...|\n",
      "|17288.0|[0.04690471816115...|\n",
      "|17289.0|[0.02324930874689...|\n",
      "|17292.0|[0.01867067288017...|\n",
      "|17293.0|[0.23877565687372...|\n",
      "|17295.0|[0.22378373978935...|\n",
      "|17296.0|[0.03038324135979...|\n",
      "|17302.0|[0.01315333213796...|\n",
      "|17303.0|[0.11992705116337...|\n",
      "|17305.0|[0.03495147543725...|\n",
      "|17306.0|[0.05732180516026...|\n",
      "|17307.0|[0.02403567699286...|\n",
      "|17311.0|[0.08148541381996...|\n",
      "|17312.0|[0.05529596176880...|\n",
      "|17314.0|[0.01423167760756...|\n",
      "|17318.0|[0.07733065556388...|\n",
      "|17319.0|[0.03518996867518...|\n",
      "|17321.0|[0.04231893827890...|\n",
      "|17323.0|[0.04093512039314...|\n",
      "+-------+--------------------+\n",
      "only showing top 20 rows\n",
      "\n"
     ]
    }
   ],
   "source": [
    "ldaResults.select('id_news','topicDistribution').show()"
   ]
  },
  {
   "cell_type": "code",
   "execution_count": 22,
   "metadata": {},
   "outputs": [
    {
     "name": "stdout",
     "output_type": "stream",
     "text": [
      "+-----+--------------------------------------------------------------------------------------+\n",
      "|topic|topic_desc                                                                            |\n",
      "+-----+--------------------------------------------------------------------------------------+\n",
      "|0    |[trump, parti, bannon, trade, presid, european, clinton, elect, germani, climat]      |\n",
      "|1    |[texa, cartel, mexican, zika, mexico, clinton, espn, sport, video, film]              |\n",
      "|2    |[militari, syria, syrian, forc, russia, islam, govern, iraq, attack, unit]            |\n",
      "|3    |[trump, health, republican, abort, clinton, ryan, voter, obamacar, vote, plan]        |\n",
      "|4    |[israel, islam, muslim, attack, isra, palestinian, terror, terrorist, iran, jerusalem]|\n",
      "|5    |[immigr, trump, comey, depart, obama, texa, investig, hous, illeg, administr]         |\n",
      "|6    |[castro, park, cuban, french, cuba, china, trump, facebook, marijuana, clinton]       |\n",
      "|7    |[polic, rubio, student, girl, campu, trump, milo, protest, school, offic]             |\n",
      "|8    |[compani, game, korea, north, player, test, vehicl, technolog, consum, product]       |\n",
      "|9    |[trump, bank, clinton, percent, kelli, rate, uber, republican, vote, campaign]        |\n",
      "+-----+--------------------------------------------------------------------------------------+\n",
      "\n"
     ]
    }
   ],
   "source": [
    "def map_termID_to_Word(termIndices):\n",
    "    words = []\n",
    "    for termID in termIndices:\n",
    "        words.append(vocab_broadcast.value[termID])\n",
    "    \n",
    "    return words\n",
    "\n",
    "udf_map_termID_to_Word = udf(map_termID_to_Word , ArrayType(StringType()))\n",
    "ldatopics_mapped = ldatopics.withColumn(\"topic_desc\", udf_map_termID_to_Word(ldatopics.termIndices))\n",
    "ldatopics_mapped.select(ldatopics_mapped.topic, ldatopics_mapped.topic_desc).show(20,False)"
   ]
  },
  {
   "cell_type": "code",
   "execution_count": 23,
   "metadata": {},
   "outputs": [],
   "source": [
    "from pyspark.sql.types import IntegerType\n",
    "\n",
    "\n",
    "def asignTopic(topicDistribution):\n",
    "    topic = topicDistribution[0]\n",
    "    index_topic = 0\n",
    "    for index in range(len(topicDistribution)):\n",
    "        if (topicDistribution[index]>topic):\n",
    "            topic=topicDistribution[index]\n",
    "            index_topic=index\n",
    "    return index_topic\n",
    "\n",
    "udf_asignTopic = udf(asignTopic, IntegerType())\n",
    "dfNewsTopic = ldaResults.withColumn(\"mainTopic\", udf_asignTopic(ldaResults.topicDistribution))"
   ]
  },
  {
   "cell_type": "code",
   "execution_count": 24,
   "metadata": {},
   "outputs": [
    {
     "name": "stdout",
     "output_type": "stream",
     "text": [
      "+---------+\n",
      "|mainTopic|\n",
      "+---------+\n",
      "|        3|\n",
      "|        2|\n",
      "|        6|\n",
      "|        6|\n",
      "|        6|\n",
      "|        9|\n",
      "|        0|\n",
      "|        8|\n",
      "|        2|\n",
      "|        8|\n",
      "|        7|\n",
      "|        1|\n",
      "|        2|\n",
      "|        3|\n",
      "|        2|\n",
      "|        4|\n",
      "|        6|\n",
      "|        4|\n",
      "|        6|\n",
      "|        8|\n",
      "+---------+\n",
      "only showing top 20 rows\n",
      "\n"
     ]
    }
   ],
   "source": [
    "dfNewsTopic.select('mainTopic').show()"
   ]
  },
  {
   "cell_type": "code",
   "execution_count": null,
   "metadata": {},
   "outputs": [],
   "source": []
  }
 ],
 "metadata": {
  "kernelspec": {
   "display_name": "Python 3",
   "language": "python",
   "name": "python3"
  },
  "language_info": {
   "codemirror_mode": {
    "name": "ipython",
    "version": 3
   },
   "file_extension": ".py",
   "mimetype": "text/x-python",
   "name": "python",
   "nbconvert_exporter": "python",
   "pygments_lexer": "ipython3",
   "version": "3.7.3"
  }
 },
 "nbformat": 4,
 "nbformat_minor": 2
}
